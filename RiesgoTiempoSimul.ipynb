{
  "cells": [
    {
      "cell_type": "markdown",
      "metadata": {
        "id": "rT-HBUQj1uc6"
      },
      "source": [
        "# Simulación de seguro de desempleo y CTS\n",
        "\n"
      ]
    },
    {
      "cell_type": "markdown",
      "metadata": {
        "id": "RatCqPFR8ekE"
      },
      "source": [
        "## Datos y paquetes útiles para el análisis\n",
        "\n",
        "Importamos paquetes útiles para el análisis y subimos una base de datos construida a partir de las respuestas del experimento de preferencias de Jaramillo et al."
      ]
    },
    {
      "cell_type": "code",
      "execution_count": null,
      "metadata": {
        "colab": {
          "background_save": true
        },
        "id": "ztbJbUTVtLhH",
        "outputId": "9e5adfe0-3928-40f0-b100-d6d0434bb1c7"
      },
      "outputs": [
        {
          "name": "stdout",
          "output_type": "stream",
          "text": [
            "Drive already mounted at /content/drive; to attempt to forcibly remount, call drive.mount(\"/content/drive\", force_remount=True).\n"
          ]
        }
      ],
      "source": [
        "import pandas as pd\n",
        "pd.options.display.float_format = '{:.3f}'.format\n",
        "import os\n",
        "import numpy as np\n",
        "import matplotlib.pyplot as plt\n",
        "import seaborn as sns\n",
        "sns.set_theme(style=\"darkgrid\")\n",
        "from tabulate import tabulate\n",
        "from google.colab import drive\n",
        "\n",
        "drive.mount('/content/drive')\n",
        "os.chdir('/content/drive/My Drive/Preferencias Grade')\n",
        "\n",
        "prefs = pd.read_csv('data_aplicacion.csv')"
      ]
    },
    {
      "cell_type": "markdown",
      "metadata": {
        "id": "MP_Ds2C12wL4"
      },
      "source": [
        "Unos datos descriptivos de algunas de las variables más importantes con las que contamos:"
      ]
    },
    {
      "cell_type": "code",
      "execution_count": null,
      "metadata": {
        "colab": {
          "background_save": true
        },
        "id": "UKqH_44ouZYQ",
        "outputId": "e91018d1-1bd5-412c-8dce-ab25dd884cdc"
      },
      "outputs": [
        {
          "name": "stdout",
          "output_type": "stream",
          "text": [
            "            rhat       dhat     pdesp         w\n",
            "-----  ---------  ---------  --------  --------\n",
            "count  1298       1298       813        1298\n",
            "mean      0.953      1.2565    1.9975   1548.47\n",
            "std       1.3763     0.5618    1.7811   1078.52\n",
            "min      -3.7652    -0.6507    1         120\n",
            "25%       0.5802     1.0936    1         900\n",
            "50%       1.0679     1.5318    1        1200\n",
            "75%       1.5266     1.5898    2        1800\n",
            "max       6.0976     2.445    10       14400\n"
          ]
        }
      ],
      "source": [
        "prefs['pdesp'] = prefs['pdesp']\n",
        "d = prefs[['rhat', 'dhat', 'pdesp', 'w']].describe()\n",
        "print(tabulate(round(d, 4), headers = d.keys()))"
      ]
    },
    {
      "cell_type": "markdown",
      "metadata": {
        "id": "aL-Iy_eq3AUO"
      },
      "source": [
        "* Las variables 'rhat' y 'dhat' toman los valores de los parámetros de funciones de preferencias de riesgo y tiempo, respectivamente, de cada sujeto. Estos parámetros vienen del modelo de preferencias conjunto con efectos aleatorios de Luce que estimamos en Jaramillo et al. y usaremos para evaluar el bienestar que genera el seguro de desempleo y el CTS. Los promedios muestran que tratamos con una población bastante aversa al riesgo e impaciente (aunque heterogénea).\n",
        "\n",
        "* La variable 'pdesp' toma valores del .1 a 1, representando la probabilidad *subjetiva* de cada sujeto sobre la perdida de su empleo en los siguientes 6 meses.\n",
        "\n",
        "* La variable 'w' representa el ingreso total mensual de cada sujeto.\n",
        "\n"
      ]
    },
    {
      "cell_type": "markdown",
      "metadata": {
        "id": "_j1YCp5_8fUj"
      },
      "source": [
        "## La probabilidad subjetiva y objetiva de despido"
      ]
    },
    {
      "cell_type": "markdown",
      "metadata": {
        "id": "UxWS7e9p3hAP"
      },
      "source": [
        "### Limpiar e imputar nuevos datos \n",
        "\n",
        "Ya que 30% de los encuestados no contaban con trabajo, modelamos su probabilidad subjetiva de despido como extracciones de la distribución de respuestas de los que si contaban con empleo."
      ]
    },
    {
      "cell_type": "code",
      "execution_count": null,
      "metadata": {
        "colab": {
          "background_save": true
        },
        "id": "zZKH1D3EpwcN",
        "outputId": "5d8cba97-abba-4253-cecd-a378a01eb3ea"
      },
      "outputs": [
        {
          "data": {
            "image/png": "[encoded data removed]",
            "text/plain": [
              "<Figure size 432x288 with 1 Axes>"
            ]
          },
          "metadata": {},
          "output_type": "display_data"
        }
      ],
      "source": [
        "from random import randint, choice, uniform, seed\n",
        "\n",
        "seed(10)\n",
        "\n",
        "# escoger entre la distribución de prob desp existente para los nans\n",
        "sequence = prefs[prefs['pdesp'].notnull()]['pdesp'].values  \n",
        "\n",
        "prefs['pdesp'] = prefs.apply(lambda d: choice(sequence) if np.isnan(d['pdesp']) else d['pdesp'], axis = 1)\n",
        "prefs['pdesp'].value_counts(normalize = True).mul(100).sort_index().plot.bar();"
      ]
    },
    {
      "cell_type": "markdown",
      "metadata": {
        "id": "G3Xjjf4W6kh8"
      },
      "source": [
        "Como se puede apreciar en el gráfico, la gran mayoría (65%) cree que su probabilidad de despido es 1/10 (la opción más baja). Menos del 5% de encuestados creen que la su probabilidad de despido es mayor a 5/10."
      ]
    },
    {
      "cell_type": "markdown",
      "metadata": {
        "id": "bw5vrD6P8KMm"
      },
      "source": [
        "### Transformar probabilidad de despido a base mensual\n",
        "\n",
        "Para la simulación, debemos transformar la probabilidad de despido a una base mensual. Para esto, la tratamos como una variable aleatoria geométrica, y simplemente la dividimos entre 6. De esta manera, interpretamos que una persona que cree que con probabilidad 10/10 perderá su trabajo en los siguientes 6 meses **espera**\n",
        "perder su trabajo en 6 meses o menos. Entonces, si X es meses empleado, tenemos que: \n",
        "\n",
        "X ~ geom(p ≥ 1/6) \n",
        "\n",
        "Para volver el modelo algo más realista proponemos que la probabilidad real de despido no sea exactamente igual a la subjetiva. Modelamos la probabilidad real de despido como una extracción de una distribución uniforme entre la opción menor y mayor, realizada mes a mes. (Hacemos esto para todos los casos menos el de 10/10, donde p se extrae de una dist. uniforme entre 9/10 y 1).  \n",
        "\n",
        "Usando métodos de Monte Carlo, vemos que este modelo genera las probabilidades despido mensuales (condicional en estar empleado) expuestas en la siguiente tabla:\n"
      ]
    },
    {
      "cell_type": "code",
      "execution_count": null,
      "metadata": {
        "colab": {
          "background_save": true
        },
        "id": "9nJljCmf8zui",
        "outputId": "399a7ef2-9bb3-4795-a625-afadbd993049"
      },
      "outputs": [
        {
          "name": "stdout",
          "output_type": "stream",
          "text": [
            "  prob. despido encuesta    prob. despido / mes | empleado\n",
            "------------------------  --------------------------------\n",
            "               0.0166667                         0.0166555\n",
            "               0.0333333                         0.0333125\n",
            "               0.05                              0.0500041\n",
            "               0.0666667                         0.06665\n",
            "               0.0833333                         0.0833491\n",
            "               0.1                               0.0999502\n",
            "               0.116667                          0.116624\n",
            "               0.133333                          0.13334\n",
            "               0.15                              0.149994\n",
            "               0.166667                          0.576186\n"
          ]
        }
      ],
      "source": [
        "prefs['prd'] = prefs['pdesp']/60 # Transformar probabilidad despido a base mensual\n",
        "\n",
        "def pdesp_mes(prd):\n",
        "  '''\n",
        "  prd: probabilidad de despido subjetiva \n",
        "  returns: probabilidad de despido objetiva\n",
        "  '''\n",
        "  return uniform((prd-1/60), 1) if (prd == 1/6 or prd == 1/6**(1/2)) else uniform((prd-1/60), (prd+1/60))\n",
        "\n",
        "pds = list(map(lambda x: x/60, range(1, 11))) \n",
        "d = dict(zip(pds, 10*[0]))\n",
        "rounds, total_rounds = 0, 50000\n",
        "\n",
        "while rounds < total_rounds:\n",
        "  rounds += 1 \n",
        "  for prd in pds:\n",
        "    d[prd] += pdesp_mes(prd)\n",
        "\n",
        "freqs = {k: v/total_rounds for k, v in d.items()}\n",
        "print(tabulate(freqs.items(), headers = ['prob. despido encuesta', 'prob. despido / mes | empleado']))"
      ]
    },
    {
      "cell_type": "markdown",
      "metadata": {
        "id": "7D9ePnUHCwM0"
      },
      "source": [
        "### La probabilidad de despido y reinserción es dependendiente del estado de empleo actual\n",
        "\n",
        "De manera similar, proponemos que la probabilidad de tener empleo sea condicional al estado actual (empleado vs. desempleado). Si una persona tiene empleo la probabilidad de mantenerlo es el complemento de lo descrito anteriormente. \n",
        "\n",
        "Por otro lado, pensamos que un supuesto más realista para la población desempleada es que la probabilidad con la que se reinsertan al mercado laboral sea menor a la probabilidad con la que mantienen su trabajo. De esta manera, modelamos la probabilidad de recuperar el empleo como el complemento de la probabilidad de despido subjetiva divida entre dos."
      ]
    },
    {
      "cell_type": "code",
      "execution_count": null,
      "metadata": {
        "colab": {
          "background_save": true
        },
        "id": "8xYV0Q_mhq4A"
      },
      "outputs": [],
      "source": [
        "def estado_empleo(empleado, prd):\n",
        "  '''\n",
        "  empleado: estado de empleo en el periodo t (1, 0)\n",
        "  prd: probabilidad subjetiva de despido\n",
        "  returns: estado de empleo en el periodo t + 1\n",
        "  '''\n",
        "  if empleado:\n",
        "    return 1 if pdesp_mes(prd) < uniform(0, 1) else 0\n",
        "  else: \n",
        "    return 1 if pdesp_mes(prd)**(1/2) < uniform(0, 1) else 0 #TO DO: 2*pdesp_mes(pd) ?????"
      ]
    },
    {
      "cell_type": "markdown",
      "metadata": {
        "id": "K-wd1I2XXNzp"
      },
      "source": [
        "En el siguiente cuadro visualizamos la probabilidad de no tener trabajo en el siguiente periodo condicional a estar empleado o no estar empleado."
      ]
    },
    {
      "cell_type": "code",
      "execution_count": null,
      "metadata": {
        "colab": {
          "background_save": true
        },
        "id": "AG_puRwMHgDA",
        "outputId": "6cad3386-4d86-4cde-b334-8e4732ca036e"
      },
      "outputs": [
        {
          "data": {
            "image/png": "[encoded data removed]",
            "text/plain": [
              "<Figure size 432x288 with 1 Axes>"
            ]
          },
          "metadata": {},
          "output_type": "display_data"
        }
      ],
      "source": [
        "from collections import defaultdict\n",
        "\n",
        "resultados = {'empleado': defaultdict(list), 'desempleado': defaultdict(list)}\n",
        "\n",
        "for prd in pds:\n",
        "  for i in range(45):\n",
        "    resultados['empleado'][prd].append(pdesp_mes(prd))\n",
        "    resultados['desempleado'][prd].append(pdesp_mes(prd)**(1/2))\n",
        "\n",
        "res = pd.concat({\n",
        "      k: pd.DataFrame.from_dict(v, 'index') for k, v in resultados.items()\n",
        "    }, \n",
        "    axis=0).stack().reset_index()\n",
        "\n",
        "f, ax = plt.subplots()\n",
        "sns.despine(bottom=True, left=True)\n",
        "\n",
        "g = sns.stripplot(x='level_1', y=0, hue=\"level_0\", jitter = .1,\n",
        "              data=res, dodge=True, alpha=.25, zorder=1)\n",
        "\n",
        "sns.pointplot(x='level_1', y=0, hue=\"level_0\", jitter = .1,\n",
        "              data=res, dodge=.5, join=False, palette=\"dark\",\n",
        "              markers=\"d\", scale=.75, ci=True)\n",
        "# Mejorar leyenda\n",
        "handles, labels = g.get_legend_handles_labels()\n",
        "plt.legend(handles[2:], labels[2:], title=\"Estado empleo\", loc=\"upper left\")\n",
        "plt.xlabel('Prob. sujetiva de desempleo (encuesta)')\n",
        "plt.ylabel('Prob. objetiva desempleo')\n",
        "plt.title(r'Prob. condicional de desempleo')\n",
        "g.set_xticklabels(list(map(lambda x: x/10, range(1,11))));"
      ]
    },
    {
      "cell_type": "markdown",
      "metadata": {
        "id": "xD_eBg91iY7D"
      },
      "source": [
        "### Probabilidad condicional de empleo \n",
        "\n",
        "Calculamos la probabilidad de estar empleado para cada probalidad subjetiva de despido y para los empleados y desempleados. Los resultados del ejericio expuestos en la tabla muestran que generamos una distribución de probabilidades de empleo plausible.  "
      ]
    },
    {
      "cell_type": "code",
      "execution_count": null,
      "metadata": {
        "colab": {
          "background_save": true
        },
        "id": "d6u8fMvV7GDW",
        "outputId": "67021d2b-45e3-44e1-c951-d92aad03eff4"
      },
      "outputs": [
        {
          "name": "stdout",
          "output_type": "stream",
          "text": [
            "    prob.    prob. mantener empleo    prob. recuperar empleo\n",
            "---------  -----------------------  ------------------------\n",
            "0.0166667                  0.98294                   0.87878\n",
            "0.0333333                  0.96652                   0.81838\n",
            "0.05                       0.95088                   0.77452\n",
            "0.0666667                  0.93496                   0.74114\n",
            "0.0833333                  0.9182                    0.71532\n",
            "0.1                        0.89916                   0.68408\n",
            "0.116667                   0.87888                   0.6604\n",
            "0.133333                   0.86662                   0.63532\n",
            "0.15                       0.84834                   0.61162\n",
            "0.166667                   0.42556                   0.26078\n"
          ]
        }
      ],
      "source": [
        "total_rounds = 50000\n",
        "prob_empleo_si_empleado = []\n",
        "prob_empleo_si_desempleado = []\n",
        "for prd in pds:\n",
        "  prob_empleo_si_empleado.append(sum([estado_empleo(1, prd) for i in range(total_rounds)])/total_rounds)\n",
        "  prob_empleo_si_desempleado.append(sum([estado_empleo(0, prd) for i in range(total_rounds)])/total_rounds)\n",
        "\n",
        "table = zip(pds, prob_empleo_si_empleado, prob_empleo_si_desempleado)\n",
        "print(tabulate(table, headers = ['prob.', 'prob. mantener empleo', 'prob. recuperar empleo']))"
      ]
    },
    {
      "cell_type": "markdown",
      "metadata": {
        "id": "Alp4zulHJcDE"
      },
      "source": [
        "### Probabilidad total de empleo\n",
        "Para simular el seguro de desempleo debemos saber la distribución de la variable de empleo que hemos creado. Ya que modelamos el estado de empleo como es una combinación de varias distribuciones y de manera condicionalmente dependiente al estado del periodo anterior, usamos métdos de Monte Carlo para describir sus propiedades numericamente.\n",
        "\n",
        "Por cada posible probabilidad de desempleo subjetiva simulamos proceso de empleo de un sujeto N veces."
      ]
    },
    {
      "cell_type": "code",
      "execution_count": null,
      "metadata": {
        "colab": {
          "background_save": true
        },
        "id": "kese1HKfpijz",
        "outputId": "89c11b48-1db4-446e-c4cf-712d9d2cc97c"
      },
      "outputs": [
        {
          "name": "stdout",
          "output_type": "stream",
          "text": [
            "    pdesp    periodos empleado    prob. total de empleo\n",
            "---------  -------------------  -----------------------\n",
            "0.0166667                49061                  0.98122\n",
            "0.0333333                48046                  0.96092\n",
            "0.05                     46889                  0.93778\n",
            "0.0666667                45954                  0.91908\n",
            "0.0833333                44777                  0.89554\n",
            "0.1                      43621                  0.87242\n",
            "0.116667                 42465                  0.8493\n",
            "0.133333                 41294                  0.82588\n",
            "0.15                     40253                  0.80506\n",
            "0.166667                 15618                  0.31236 \n",
            "\n",
            "total:                    417978                    0.835956\n"
          ]
        }
      ],
      "source": [
        "estado = dict(zip(pds, 10*[1])) # empiezan todos empleados\n",
        "resultados = defaultdict(list)\n",
        "\n",
        "for prd in pds:\n",
        "  rounds = 0\n",
        "  while rounds < total_rounds:\n",
        "    estado[prd] = estado_empleo(estado[prd], prd)\n",
        "    resultados[prd].append(estado[prd])\n",
        "    rounds += 1\n",
        "\n",
        "periodos_empleado = list()\n",
        "prob_empleo = list()\n",
        "\n",
        "for prd in pds:\n",
        "  periodos_empleado.append(sum(resultados[prd]))\n",
        "  prob_empleo.append(periodos_empleado[-1]/total_rounds)\n",
        "\n",
        "table = zip(pds, periodos_empleado, prob_empleo)\n",
        "\n",
        "print(tabulate(table, headers = ['pdesp', 'periodos empleado', 'prob. total de empleo']), '\\n',)\n",
        "\n",
        "tot_empleado = sum(periodos_empleado)\n",
        "prob_empleado = tot_empleado/(10*total_rounds)\n",
        "\n",
        "print('total:', tot_empleado, prob_empleado, sep = 20*' ')"
      ]
    },
    {
      "cell_type": "markdown",
      "metadata": {
        "id": "g8Q4guJrLmAQ"
      },
      "source": [
        "Marcar la opción con que indica menor probabilidad de perder el empleo implica que uno este empleado 98% del tiempo en promedio. Marcar la opción con mayor probabilidad de perder el empleo implica que uno este empleado 31% del tiempo en promedio."
      ]
    },
    {
      "cell_type": "markdown",
      "metadata": {
        "id": "jRX4vzIf1Xzn"
      },
      "source": [
        "### Probabilidad de mantener estado de desempleo por mes consecutivo\n",
        "\n",
        "La probabilidad de no estar empleado es el complemento de la probabilidad expuesta en la tabla anterior. Sin embargo, para modelar un seguro de desempleo con una compensación decreciente por mes de desempleo consecutivo, nos interesa saber la probabilidad de estar desempleado 1, 2, 3, 4 y 5 o más periodos consecutivos. "
      ]
    },
    {
      "cell_type": "code",
      "execution_count": null,
      "metadata": {
        "colab": {
          "background_save": true
        },
        "collapsed": true,
        "id": "aZJyXtTJilp0",
        "outputId": "884b8717-78fc-4343-a034-692cb7c10ba9"
      },
      "outputs": [
        {
          "name": "stdout",
          "output_type": "stream",
          "text": [
            "        Probabilidad de despido:  0.016666666666666666 \n",
            "\n",
            "   periodo (cons.) sin empleo    frecuencia\n",
            "----------------------------  ------------\n",
            "                           0           809\n",
            "                           1            96\n",
            "                           2            14\n",
            "                           3             1\n",
            "\n",
            "\n",
            "\n",
            "        Probabilidad de despido:  0.03333333333333333 \n",
            "\n",
            "   periodo (cons.) sin empleo    frecuencia\n",
            "----------------------------  ------------\n",
            "                           0          1610\n",
            "                           1           294\n",
            "                           2            52\n",
            "                           3            12\n",
            "                           4             1\n",
            "\n",
            "\n",
            "\n",
            "        Probabilidad de despido:  0.05 \n",
            "\n",
            "   periodo (cons.) sin empleo    frecuencia\n",
            "----------------------------  ------------\n",
            "                           0          2387\n",
            "                           1           535\n",
            "                           2           122\n",
            "                           3            30\n",
            "                           4             7\n",
            "                           5             3\n",
            "\n",
            "\n",
            "\n",
            "        Probabilidad de despido:  0.06666666666666667 \n",
            "\n",
            "   periodo (cons.) sin empleo    frecuencia\n",
            "----------------------------  ------------\n",
            "                           0          3033\n",
            "                           1           719\n",
            "                           2           190\n",
            "                           3            47\n",
            "                           4            10\n",
            "                           5             2\n",
            "\n",
            "\n",
            "\n",
            "        Probabilidad de despido:  0.08333333333333333 \n",
            "\n",
            "   periodo (cons.) sin empleo    frecuencia\n",
            "----------------------------  ------------\n",
            "                           0          3657\n",
            "                           1          1019\n",
            "                           2           280\n",
            "                           3            79\n",
            "                           4            21\n",
            "                           5             3\n",
            "\n",
            "\n",
            "\n",
            "        Probabilidad de despido:  0.1 \n",
            "\n",
            "   periodo (cons.) sin empleo    frecuencia\n",
            "----------------------------  ------------\n",
            "                           0          4366\n",
            "                           1          1389\n",
            "                           2           424\n",
            "                           3           136\n",
            "                           4            48\n",
            "                           5            17\n",
            "                           6             8\n",
            "                           7             2\n",
            "\n",
            "\n",
            "\n",
            "        Probabilidad de despido:  0.11666666666666667 \n",
            "\n",
            "   periodo (cons.) sin empleo    frecuencia\n",
            "----------------------------  ------------\n",
            "                           0          4985\n",
            "                           1          1726\n",
            "                           2           601\n",
            "                           3           198\n",
            "                           4            76\n",
            "                           5            29\n",
            "                           6            10\n",
            "                           7             5\n",
            "                           8             3\n",
            "\n",
            "\n",
            "\n",
            "        Probabilidad de despido:  0.13333333333333333 \n",
            "\n",
            "   periodo (cons.) sin empleo    frecuencia\n",
            "----------------------------  ------------\n",
            "                           0          5530\n",
            "                           1          1990\n",
            "                           2           675\n",
            "                           3           248\n",
            "                           4            91\n",
            "                           5            30\n",
            "                           6            10\n",
            "                           7             5\n",
            "                           8             1\n",
            "\n",
            "\n",
            "\n",
            "        Probabilidad de despido:  0.15 \n",
            "\n",
            "   periodo (cons.) sin empleo    frecuencia\n",
            "----------------------------  ------------\n",
            "                           0          5985\n",
            "                           1          2386\n",
            "                           2           934\n",
            "                           3           369\n",
            "                           4           146\n",
            "                           5            63\n",
            "                           6            24\n",
            "                           7             8\n",
            "                           8             5\n",
            "                           9             3\n",
            "                          10             2\n",
            "\n",
            "\n",
            "\n",
            "        Probabilidad de despido:  0.16666666666666666 \n",
            "\n",
            "   periodo (cons.) sin empleo    frecuencia\n",
            "----------------------------  ------------\n",
            "                           0          8832\n",
            "                           1          6589\n",
            "                           2          4889\n",
            "                           3          3612\n",
            "                           4          2707\n",
            "                           5          2015\n",
            "                           6          1519\n",
            "                           7          1151\n",
            "                           8           866\n",
            "                           9           644\n",
            "                          10           498\n",
            "                          11           362\n",
            "                          12           263\n",
            "                          13           193\n",
            "                          14           150\n",
            "                          15           106\n",
            "                          16            80\n",
            "                          17            62\n",
            "                          18            52\n",
            "                          19            35\n",
            "                          20            24\n",
            "                          21            18\n",
            "                          22            13\n",
            "                          23             9\n",
            "                          24             8\n",
            "                          25             7\n",
            "                          26             4\n",
            "                          27             4\n",
            "                          28             4\n",
            "                          29             3\n",
            "                          30             3\n",
            "                          31             3\n",
            "                          32             3\n",
            "                          33             1\n",
            "                          34             1\n",
            "                          35             1\n",
            "                          36             1\n",
            "                          37             1\n",
            "\n",
            "\n",
            "\n"
          ]
        }
      ],
      "source": [
        "from itertools import groupby\n",
        "distribucion_desempleo = {}\n",
        "\n",
        "for prd in pds:\n",
        "  frecs = defaultdict(lambda: 0)\n",
        "  groups = [list(g) for k, g in groupby(resultados[prd])]\n",
        "  for group in groups:\n",
        "    if sum(group) == 0: #group[-1] == 0:\n",
        "      cuantos = len(group)\n",
        "      for num in range(cuantos):\n",
        "        frecs[num] += 1\n",
        "  distribucion_desempleo[prd] = frecs\n",
        "\n",
        "for prd in pds:\n",
        "  print(8*' ' + 'Probabilidad de despido: ', prd, '\\n\\n', \n",
        "        tabulate(distribucion_desempleo[prd].items(), \n",
        "                 headers = ['periodo (cons.) sin empleo', 'frecuencia']), \n",
        "        end = '\\n\\n\\n\\n')"
      ]
    },
    {
      "cell_type": "markdown",
      "metadata": {
        "id": "qnLTcq_rMbYs"
      },
      "source": [
        "*Para ver tablas con la probabilidad de cada secuencia de estado de desempleo consecutivo por la probabilidad despido, marque 'Show hidden output'.*\n",
        "\n",
        "Las tablas muestran el resultado esperado, a mayor probabilidad subjetiva de despido, la probabilidad de secuencias de estados de desempleo consecutivos más largas incrementa."
      ]
    },
    {
      "cell_type": "markdown",
      "metadata": {
        "id": "VEJU-HZym0R_"
      },
      "source": [
        "Aquí revisamos si los cálculos de probabilidad anteriores son correctos. En particular la suma las probabilidades de las secuencias de desempleo debe ser el complemento la suma de los periodos de empleo. "
      ]
    },
    {
      "cell_type": "code",
      "execution_count": null,
      "metadata": {
        "colab": {
          "background_save": true
        },
        "id": "3seFPKczaqip",
        "outputId": "f1861c58-dc58-4699-a8c8-1f26f382c6bf"
      },
      "outputs": [
        {
          "name": "stdout",
          "output_type": "stream",
          "text": [
            "# periodo (cons)       prob.\n",
            "------------------  --------\n",
            "0                   0.082388\n",
            "1                   0.033486\n",
            "2                   0.016362\n",
            "3                   0.009464\n",
            "4                   0.006214\n",
            ">= 5                0.016674\n",
            "\n",
            "La suma de la probabilidad de desemeplo y la probabilidad de empleo debe igualar a 1: \n",
            "\n",
            "0.164588 + 0.835412 = 1.0\n"
          ]
        }
      ],
      "source": [
        "periodos = ['0', '1', '2', '3', '4', '>= 5'] #['1', '2', '3', '4', '5', '>= 6']\n",
        "probabilidad_desempleo = dict(zip(periodos, [0]*len(periodos)))\n",
        "\n",
        "for prd in pds:\n",
        "  for k, v in distribucion_desempleo[prd].items():\n",
        "    if k < 5:\n",
        "      probabilidad_desempleo[str(k)] += v\n",
        "    else:\n",
        "       probabilidad_desempleo['>= 5'] += v\n",
        "\n",
        "probabilidad_desempleo = {k: v/(total_rounds*10) for k, v in probabilidad_desempleo.items()}\n",
        "desemp_prob_sum = sum(list(probabilidad_desempleo.values()))\n",
        "\n",
        "print(tabulate(probabilidad_desempleo.items(), headers=['# periodo (cons)', 'prob.']),\n",
        "      'La suma de la probabilidad de desemeplo y la probabilidad de empleo debe igualar a 1: ',\n",
        "      f'{desemp_prob_sum} + {prob_empleado} = {desemp_prob_sum + prob_empleado}',\n",
        "      sep = '\\n\\n')\n"
      ]
    },
    {
      "cell_type": "markdown",
      "metadata": {
        "id": "-b-KeHF_wkK4"
      },
      "source": [
        "Con la siguiente función, calculamos la probabilidad de todas las secuencias de estados de desempleo consecutivos por probabilidad subjetiva de despido."
      ]
    },
    {
      "cell_type": "code",
      "execution_count": null,
      "metadata": {
        "colab": {
          "background_save": true
        },
        "id": "KR54fWEHwoZP",
        "outputId": "0c803c7f-a87f-4b68-fde9-d7bffdd2b751"
      },
      "outputs": [
        {
          "name": "stdout",
          "output_type": "stream",
          "text": [
            "Personas con prob. despido  más alta \n",
            "\n",
            " periodo desempleo (cons.)      prob.\n",
            "---------------------------  -------\n",
            "0                            0.17664\n",
            "1                            0.13178\n",
            "2                            0.09778\n",
            "3                            0.07224\n",
            "4                            0.05414\n",
            ">= 5                         0.16208\n"
          ]
        }
      ],
      "source": [
        "def dist_desempleo(prd):\n",
        "  periodos = ['0', '1', '2', '3', '4', '>= 5'] # ['1', '2', '3', '4', '5', '>= 6']\n",
        "  frec_desempleo = dict(zip(periodos, [0]*len(periodos)))\n",
        "  for k, v in distribucion_desempleo[prd].items():\n",
        "    if k < 5:\n",
        "      frec_desempleo[str(k)] += v\n",
        "    else:\n",
        "       frec_desempleo['>= 5'] += v\n",
        "  prob_desempleo = {k: v/(total_rounds) for k, v in frec_desempleo.items()}\n",
        "  return prob_desempleo\n",
        "\n",
        "print('Personas con prob. despido  más alta', '\\n\\n',\n",
        "      tabulate(dist_desempleo(1/6).items(), \n",
        "               headers = ['periodo desempleo (cons.)', 'prob.']))"
      ]
    },
    {
      "cell_type": "markdown",
      "metadata": {
        "id": "dPDcWhCP0Cov"
      },
      "source": [
        "\n",
        "## Seguro de desempleo: \n",
        "\n",
        "*   El 1er periodo de desempleo el sujeto recibe el 100% de su salario. Cada periodo de desempleo consecutivo el pago se reduce en 20 puntos porcentuales hasta el 5to periodo. De ahi en adelante recibe 0% de su salario.\n",
        "*   El sujeto es elegible al pago del seguro si ha contribuido al mismo 6 veces o más en el último año.\n",
        "*     Después de recibir pago por el seguro, el sujeto debe volver a contribuir para ser elegible nuevamente.\n",
        "---"
      ]
    },
    {
      "cell_type": "markdown",
      "metadata": {
        "id": "CWvbUmhR1nZ8"
      },
      "source": [
        "### Elegibilidad al pago del seguro condicional a estar desempleado\n",
        "\n",
        "\n",
        "Siguiente, calculamos la probabilidad de ser elegible al seguro de desempleo en cada periodo condicional a estar en estado desempleo."
      ]
    },
    {
      "cell_type": "code",
      "execution_count": null,
      "metadata": {
        "colab": {
          "background_save": true
        },
        "id": "J4C0af0aywyR",
        "outputId": "525e578a-c444-4f1f-df86-cfc3737a66ab"
      },
      "outputs": [
        {
          "name": "stdout",
          "output_type": "stream",
          "text": [
            "  prob. subjetiva despido    prob. total eligibilidad S.D. | desempleo\n",
            "-------------------------  -------------------------------------------\n",
            "                0.0166667                                     0.919565\n",
            "                0.0333333                                     0.854749\n",
            "                0.05                                          0.799935\n",
            "                0.0666667                                     0.75906\n",
            "                0.0833333                                     0.711998\n",
            "                0.1                                           0.679812\n",
            "                0.116667                                      0.627669\n",
            "                0.133333                                      0.605828\n",
            "                0.15                                          0.577733\n",
            "                0.166667                                      0.111594\n"
          ]
        }
      ],
      "source": [
        "frec_elegibilidad_secuencia = defaultdict(list)\n",
        "contribucion = []\n",
        "\n",
        "#Primero veamos que 'rachas' de desempleo son elegibles a pago del seguro\n",
        "for prd in pds:\n",
        "  for mes in range(total_rounds):\n",
        "      contribucion.append(resultados[prd][mes])\n",
        "      if len(contribucion) > 12:\n",
        "        contribucion.pop(0)\n",
        "      if contribucion[-1] == 0 and sum(contribucion) > 5:\n",
        "        contribucion = []\n",
        "        frec_elegibilidad_secuencia[prd].append(mes)\n",
        "\n",
        "# Luego, contemos los periodos elegibles dentro de estas rachas\n",
        "distribucion_desempleo_elegible = {}\n",
        "for prd in pds:\n",
        "  frecs_elegible = defaultdict(lambda: 0)\n",
        "  for mes in frec_elegibilidad_secuencia[prd]:\n",
        "    for periodo, estado in enumerate(resultados[prd][mes:]):\n",
        "      if estado == 0: #Count it\n",
        "        frecs_elegible[periodo] +=1\n",
        "        periodo += 1\n",
        "      else: # Ve a la siguiente racha de desempleo elegible\n",
        "        break\n",
        "  distribucion_desempleo_elegible[prd] = frecs_elegible\n",
        "\n",
        "periodos_desemp = dict(zip(pds, list(map(lambda x: total_rounds - x, periodos_empleado))))\n",
        "frec_elegibilidad = {k: sum(distribucion_desempleo_elegible[k].values()) for k in distribucion_desempleo_elegible.keys()}\n",
        "prob_elegibilidad = dict(zip(pds, np.array(list(frec_elegibilidad.values()))*(1/np.array(list(periodos_desemp.values())))))\n",
        "\n",
        "print(tabulate(prob_elegibilidad.items(), \n",
        "              headers = ['prob. subjetiva despido', 'prob. total eligibilidad S.D. | desempleo']))"
      ]
    },
    {
      "cell_type": "code",
      "execution_count": null,
      "metadata": {
        "colab": {
          "background_save": true
        },
        "id": "S5y4dBTKNf2q",
        "outputId": "b54f3b92-1aac-45bd-ca78-6b368f9139a1"
      },
      "outputs": [
        {
          "name": "stdout",
          "output_type": "stream",
          "text": [
            "Personas con prob. despido  más alta \n",
            "\n",
            " periodo desempleo (cons.)      prob. elegible a S.D. | desempleo\n",
            "---------------------------  -----------------------------------\n",
            "0                                                       0.918418\n",
            "1                                                       0.927083\n",
            "2                                                       0.928571\n",
            "3                                                       1\n",
            "4                                                       0\n",
            ">= 5                                                    0\n"
          ]
        }
      ],
      "source": [
        "def dist_elgibilidad_condicional(prd): # PROB Condicional\n",
        "  '''\n",
        "  prd: prob. despido subjetiva\n",
        "  returns: probabilidad de elegibilidad a seguro por cada periodo \n",
        "  de desempleo consecutivo, condicional a estar desempleado\n",
        "  '''\n",
        "  periodos = ['0', '1', '2', '3', '4', '>= 5']\n",
        "  frec_desempleo = dict(zip(periodos, [0]*len(periodos)))\n",
        "  for k, v in distribucion_desempleo_elegible[prd].items():\n",
        "    if k < 5:\n",
        "      frec_desempleo[str(k)] += v\n",
        "    else:\n",
        "       frec_desempleo['>= 5'] += v\n",
        "  prob_desempleo_elegible = {key: frec_desempleo[key] / (dist_desempleo(prd).get(key, 0)*total_rounds) if dist_desempleo(prd).get(key, 0) else 0\n",
        "                        for key in frec_desempleo.keys()}\n",
        "  # prob_desempleo_elegible = {k: v/(periodos_desemp[prd]) for k, v in frec_desempleo.items()} #periodos_desemp[prd] # ESTA MAL - Hay q dividir entre periodo desempleado en ESE periodo\n",
        "  return prob_desempleo_elegible\n",
        "\n",
        "print('Personas con prob. despido  más alta', '\\n\\n',\n",
        "      tabulate(dist_elgibilidad_condicional(1/60).items(), \n",
        "               headers = ['periodo desempleo (cons.)', 'prob. elegible a S.D. | desempleo']))"
      ]
    },
    {
      "cell_type": "code",
      "execution_count": null,
      "metadata": {
        "colab": {
          "background_save": true
        },
        "id": "5yFbS9o1Pqpu",
        "outputId": "52b60714-2cf1-4447-cbb0-1d54a3deaeed"
      },
      "outputs": [
        {
          "name": "stdout",
          "output_type": "stream",
          "text": [
            "Personas con prob. despido  más alta \n",
            "\n",
            " periodo desempleo (cons.)      prob. elegible a S.D.\n",
            "---------------------------  -----------------------\n",
            "0                                            0.02066\n",
            "1                                            0.01536\n",
            "2                                            0.0111\n",
            "3                                            0.00814\n",
            "4                                            0.00614\n",
            ">= 5                                         0.01612\n"
          ]
        }
      ],
      "source": [
        "def dist_elgibilidad(prd): ### PROB TOTAL\n",
        "  '''\n",
        "  prd: prob. despido subjetiva\n",
        "  returns: probabilidad de elegibilidad a seguro por cada periodo \n",
        "  de desempleo consecutivo\n",
        "  '''\n",
        "  periodos = ['0', '1', '2', '3', '4', '>= 5']\n",
        "  frec_desempleo = dict(zip(periodos, [0]*len(periodos)))\n",
        "  for k, v in distribucion_desempleo_elegible[prd].items():\n",
        "    if k < 5:\n",
        "      frec_desempleo[str(k)] += v\n",
        "    else:\n",
        "       frec_desempleo['>= 5'] += v\n",
        "\n",
        "  prob_desempleo_elegible = {k: v/(total_rounds) for k, v in frec_desempleo.items()} #periodos_desemp[prd]\n",
        "  return prob_desempleo_elegible\n",
        "\n",
        "print('Personas con prob. despido  más alta', '\\n\\n',\n",
        "      tabulate(dist_elgibilidad(1/6).items(), \n",
        "               headers = ['periodo desempleo (cons.)', 'prob. elegible a S.D.']))"
      ]
    },
    {
      "cell_type": "markdown",
      "metadata": {
        "id": "BhJjzKLxs5bw"
      },
      "source": [
        "### Tasa de aporte al seguro de desempleo por trabajador por mes \n",
        "\n",
        "Con las propiedades de la distribución del desempleo calculadas previamente estamos preparados para calcular la prima del seguro de desempleo. La prima debe ser igual a una tasa sobre el salario mensual de cada sujeto que balancee los ingresos y los egresos del seguro de desempleo:"
      ]
    },
    {
      "cell_type": "markdown",
      "metadata": {
        "id": "wikHZQEwaE_m"
      },
      "source": [
        "Usando la probabilidad total de despido:"
      ]
    },
    {
      "cell_type": "code",
      "execution_count": null,
      "metadata": {
        "colab": {
          "background_save": true
        },
        "id": "ToJ3XzChP1TL",
        "outputId": "3fd1c1be-a98d-490a-97c9-1108cac9bd22"
      },
      "outputs": [
        {
          "name": "stdout",
          "output_type": "stream",
          "text": [
            "El seguro se balancea con una contribución del 2.25% del salario de cada trabajador\n"
          ]
        }
      ],
      "source": [
        "# USANDO PROB TOTAL\n",
        "pagos_seguro = np.array([.8, .6, .4, .2, 0,  0]) # % del salario pagado por mes consecutivo de desempleo\n",
        "egreso_sd = 0 \n",
        "ingreso_sd = 0\n",
        "\n",
        "for i, prd in enumerate(pds):\n",
        "  # salario de todos los que tienen cierto prd\n",
        "  salario_conjunto = prefs[prefs['prd'] == prd]['w'].sum() \n",
        "\n",
        "  # vector de prob. elegibilidad a SD condicional a desempleo por periodo consecutivo\n",
        "  prob_elegible = np.array(list(dist_elgibilidad(prd).values())) \n",
        "\n",
        "  # egreso = salario conjunto * prob desempleo * prob_elegible | desempleo * vector de pagos (para cada periodo de desempleo)\n",
        "  egreso_sd += sum(salario_conjunto*prob_elegible*pagos_seguro)\n",
        "  \n",
        "  # ingreso = salario conjunto * prob. empleo\n",
        "  ingreso_sd += salario_conjunto*prob_empleo[i]\n",
        "\n",
        "# Balancear prima. Debe ser que ingreso_sd * prima_sd = egreso_sd. Entonces:\n",
        "prima_sd = egreso_sd/ingreso_sd \n",
        "\n",
        "print(f'El seguro se balancea con una contribución del {(100*round(prima_sd, 4))}% del salario de cada trabajador')"
      ]
    },
    {
      "cell_type": "markdown",
      "metadata": {
        "id": "Aybp4s_8aJXw"
      },
      "source": [
        "Usando la probabilidad condicional de despido:"
      ]
    },
    {
      "cell_type": "code",
      "execution_count": null,
      "metadata": {
        "colab": {
          "background_save": true
        },
        "id": "nfwEneHaPgBE",
        "outputId": "9c7c511a-62c7-44af-8a03-52f4e139ba9f"
      },
      "outputs": [
        {
          "name": "stdout",
          "output_type": "stream",
          "text": [
            "El seguro se balancea con una contribución del 2.25% del salario de cada trabajador\n"
          ]
        }
      ],
      "source": [
        "# USANDO PROB CONDICIONAL\n",
        "egreso_sd = 0 \n",
        "ingreso_sd = 0\n",
        "\n",
        "for i, prd in enumerate(pds):\n",
        "  # salario de todos los que tienen cierto prd\n",
        "  salario_conjunto = prefs[prefs['prd'] == prd]['w'].sum() \n",
        "\n",
        "  # vector de prob. desempleo por periodo consecutivo\n",
        "  prob_desempleo = np.array(list(dist_desempleo(prd).values())) \n",
        "\n",
        "  # vector de prob. elegibilidad a SD condicional a desempleo por periodo consecutivo\n",
        "  prob_elegible_cond = np.array(list(dist_elgibilidad_condicional(prd).values())) \n",
        "\n",
        "  # vector de probabilidad conjunta de desempleo y elegibilidad a SD por periodo consecutivo\n",
        "  prob_desemplado_elegible = prob_desempleo*prob_elegible_cond\n",
        "\n",
        "  # egreso = salario conjunto * prob desempleo * prob_elegible | desempleo * vector de pagos (para cada periodo de desempleo)\n",
        "  egreso_sd += sum(salario_conjunto*prob_desemplado_elegible*pagos_seguro)\n",
        "  \n",
        "  # ingreso = salario conjunto * prob. empleo\n",
        "  ingreso_sd += salario_conjunto*prob_empleo[i]\n",
        "\n",
        "# Balancear prima. Debe ser que ingreso_sd * prima_sd = egreso_sd. Entonces:\n",
        "prima_sd = egreso_sd/ingreso_sd \n",
        "\n",
        "print(f'El seguro se balancea con una contribución del {(100*round(prima_sd, 4))}% del salario de cada trabajador')"
      ]
    },
    {
      "cell_type": "markdown",
      "metadata": {
        "id": "VMjh_TFLZsvP"
      },
      "source": [
        "# Simulación seguro de desempleo"
      ]
    },
    {
      "cell_type": "markdown",
      "metadata": {
        "id": "wY8Gv17U7kYw"
      },
      "source": [
        "## Helper functions para la simulación\n",
        "\n"
      ]
    },
    {
      "cell_type": "code",
      "execution_count": null,
      "metadata": {
        "colab": {
          "background_save": true
        },
        "id": "Cdl3EAAlDur0"
      },
      "outputs": [],
      "source": [
        "def ingreso(empleado, w, seguro = None, prima = prima_sd):\n",
        "  '''\n",
        "  Returns: ingreso mensual nominal (float)\n",
        "  seguro: mes 0-5 consecutivo desempleo elegible a seguro\n",
        "  '''\n",
        "  return (1 - prima)*w if empleado else [.8, .6, .4, .2, 0, 0][seguro]*w\n",
        "\n",
        "def updateAhorroConsumo(empleado, ahorros, w, periodo, seguro = None):\n",
        "  '''\n",
        "  Returns: monto nominal de ahorro y consumo (tuple of floats)\n",
        "\n",
        "  empleado: estado de empleo en ese periodo (bool)\n",
        "  ahorros: monto nominal ahorrado (float)\n",
        "  w: salario previo descuentos (float)\n",
        "  periodo: numero de periodos restantes\n",
        "  seguro: si desempleado, mes consecutivo en desempleo (int.)\n",
        "  '''\n",
        "  # Determinar ingreso\n",
        "  ingre = ingreso(empleado, w, seguro)\n",
        "\n",
        "  if not periodo:\n",
        "    consumo = ahorros + ingre\n",
        "    ahorros = 0\n",
        "    \n",
        "  else:\n",
        "    # Si empleado - gastas 90% de tus ingresos\n",
        "    if empleado:\n",
        "      consumo = .9*ingre\n",
        "      ahorros += ingre - consumo\n",
        "    # Si no empleado: usas heuristica para decidir consumo:\n",
        "    else:\n",
        "    # E.g si tus ahorros + ingresos - gastos > gastos --> gastas\n",
        "    # sino, reduces tus gastos hasta cumplir la desigualdad\n",
        "      for i in reversed(range(1, 5)):\n",
        "        gasto = (i/5)*w # Empiezas tratando de gastar 80% del sueldo y vas bajando por 20pp\n",
        "        if ahorros + ingre > 2*gasto:\n",
        "          consumo = gasto\n",
        "          ahorros += ingre - gasto\n",
        "          break\n",
        "      else:\n",
        "          ahorros = 0 # Si no logras guardar 20% de tu sueldo, gastas todo\n",
        "          consumo = ahorros + ingre\n",
        "\n",
        "  return ahorros, consumo\n",
        "\n",
        "dist_d = {i: dist_desempleo(prd) for i, prd in zip(range(1, 11), pds)}\n",
        "dist_e = {i: dist_elgibilidad(prd) for i, prd in zip(range(1, 11), pds)}\n",
        "\n",
        "def pathAhorroConsumo(prd, periodos, ahorros, w):\n",
        "  '''\n",
        "  Return: (tuple: float, list) ahorros periodo final y path esperado de consumos \n",
        "  para el periodo actual y los periodos futuros usando la probabilidad total de los eventos\n",
        "\n",
        "  prd: probabilidad subj. de despido en forma original (1-10)\n",
        "  periodos: periodos restantes antes de finalizar vida laboral (int)\n",
        "  ahorros: monto nominal ahorrado (float)\n",
        "  w: salario previo descuentos (float)\n",
        "  '''\n",
        "  # Determinar probabilidad total de empleo, de ser elegible a algun pago del seguro y de no serlo\n",
        "  prob_empleo = 1-sum(dist_d[prd].values())\n",
        "  probs_seguro = np.array(list(dist_e[prd].values()))\n",
        "  prob_des = 1 - prob_empleo - sum(probs_seguro)\n",
        "  # Guardar path en listas\n",
        "  path_esperado_consumos = []\n",
        "  # Loop sobre los periodos\n",
        "  for i in range(periodos):\n",
        "    # Posibles ingresos bajo todos los escenarios\n",
        "    actual_seguro = np.array([updateAhorroConsumo(False, ahorros, w, periodos - i - 1, s) for s in range(6)]) \n",
        "    actual_desemp = updateAhorroConsumo(False, ahorros, w, periodos - i - 1, 5) # No eres elegible al seguro\n",
        "    actual_empleo = updateAhorroConsumo(True, ahorros, w, periodos - i - 1)\n",
        "    # Consumo esperado\n",
        "    consumo_periodo = probs_seguro.dot(actual_seguro[:,1])\n",
        "    consumo_periodo += prob_des*actual_desemp[1] + prob_empleo*actual_empleo[1]\n",
        "    path_esperado_consumos.append(consumo_periodo)\n",
        "    # Ahorro esperado\n",
        "    ahorro_periodo = probs_seguro.dot(actual_seguro[:,0])\n",
        "    ahorro_periodo += prob_des*actual_desemp[0] + prob_empleo*actual_empleo[0]\n",
        "    ahorros = ahorro_periodo\n",
        "\n",
        "  return path_esperado_consumos, ahorros\n",
        "\n",
        "def utilidadConsumo(r, consumo):\n",
        "  '''\n",
        "  Returns: utilidad por consumo \n",
        "  r: parámetro de aversión al riesgo CRRA\n",
        "  consumo: monto (soles) consumido\n",
        "  '''\n",
        "  if consumo > 0:\n",
        "    return ((consumo)**(1-r)-1)/(1-r) if r != 1 else np.log(consumo)\n",
        "  else:\n",
        "    return 0\n",
        "\n",
        "def utilidadDescontada(prd, periodos, ahorros, w, r, delta):\n",
        "  '''\n",
        "  Return: (float) suma de utilidad del consumo del periodo actual\n",
        "  y la utilidad descontada del consumo de los periodos futuros\n",
        "  '''\n",
        "  if periodos:\n",
        "    # Determinar path de consumo y ahorro en ultimo periodo\n",
        "    consumos, ahorros = pathAhorroConsumo(prd, periodos, ahorros, w)\n",
        "    # Determinar utilidad esperada descontada para todos los los periodos\n",
        "    uDescontada = 0\n",
        "    for periodo, consumo in enumerate(consumos):\n",
        "      uDescontada += ((1/(1+delta))**(periodo + 1))*utilidadConsumo(r, consumo) \n",
        "    # En el ultimo periodo de tu vida consumes todos tus ahorros\n",
        "    uDescontada += (1/(1+delta))**(periodo)*utilidadConsumo(r, ahorros)\n",
        "    return uDescontada\n",
        "  else:\n",
        "    return 0\n",
        "\n",
        "def aggContribucion(empleado, contribucion):\n",
        "  '''\n",
        "  Returns: (string) + 1 si empleado + 0 si desempleado\n",
        "  '''\n",
        "  return contribucion + '1' if empleado else contribucion + '0'\n",
        "\n",
        "def seguro(empleado, contribucion, ultimo_periodo_seguro):\n",
        "  '''\n",
        "  Returns: régimen de seguro de desempleo \n",
        "  Hay que arreglar esta func. no toma en cuenta si alguien recibio pago por el seguro \n",
        "  '''\n",
        "  if not empleado:\n",
        "    cont = list(map(int, contribucion))\n",
        "    # ver el largo de la racha de desempleo\n",
        "    k = len([list(g) for k, g in groupby(cont)][-1])\n",
        "\n",
        "    # Si en los doce meses antes de que empezo la racha de desempleo contribuyo\n",
        "    # más de 5 y no recibio pagos del seguro -> es elegible al SD \n",
        "    if sum(cont[::-1][k:k + 12]) > 5 and (len(contribucion) - ultimo_periodo_seguro > 12) and k < 6:\n",
        "      return k - 1\n",
        "    else:\n",
        "       return 5\n",
        "  else:\n",
        "     return 5\n",
        "\n",
        "def ultimo_seguro(seguro, periodo, ultimo_periodo_seguro):\n",
        "  return periodo if seguro == 0 else ultimo_periodo_seguro"
      ]
    },
    {
      "cell_type": "code",
      "execution_count": null,
      "metadata": {
        "cellView": "form",
        "colab": {
          "background_save": true
        },
        "id": "zZiqmpy1YHhs"
      },
      "outputs": [],
      "source": [
        "#@title\n",
        "\n",
        "#### CORREGIDAS => PROBAR\n",
        "\n",
        "dist_d = {i: dist_desempleo(prd) for i, prd in zip(range(1, 11), pds)}\n",
        "dist_e = {i: dist_elgibilidad(prd) for i, prd in zip(range(1, 11), pds)}\n",
        "prob_empleo_ = {k: 1 - sum(dist_d[k].values()) for k in dist_d.keys()}\n",
        "prob_des_ = {k: 1 - prob_empleo_[k] - sum(dist_e[k].values()) for k in dist_e.keys()}\n",
        "                                       \n",
        "def pathConsumo(prd, periodos, ahorros, w, r):\n",
        "  '''\n",
        "  Return: (tuple: float, list) ahorros periodo final y path esperado de consumos \n",
        "  para el periodo actual y los periodos futuros usando la probabilidad total de los eventos\n",
        "\n",
        "  prd: probabilidad subj. de despido en forma original (1-10)\n",
        "  periodos: periodos restantes antes de finalizar vida laboral (int)\n",
        "  ahorros: monto nominal ahorrado (float)\n",
        "  w: salario previo descuentos (float)\n",
        "  r: parámetro aversion al riesgo\n",
        "  '''\n",
        "  # Determinar probabilidad total de empleo, de ser elegible a algun pago del seguro y de no serlo\n",
        "  prob_empleo = prob_empleo_[prd]\n",
        "  probs_seguro = np.array(list(dist_e[prd].values()))\n",
        "  prob_des = prob_des_[prd]\n",
        "  # Guardar path en listas\n",
        "  path_esperado_consumos = []\n",
        "\n",
        "  # Loop sobre los periodos\n",
        "  for i in range(periodos):\n",
        "    # Posibles ingresos bajo todos los escenarios\n",
        "    actual_seguro = np.array([updateAhorroConsumo(False, ahorros, w, periodos - i - 1, s) for s in range(6)]) \n",
        "    actual_desemp = updateAhorroConsumo(False, ahorros, w, periodos - i - 1, 5) # No eres elegible al seguro\n",
        "    actual_empleo = updateAhorroConsumo(True, ahorros, w, periodos - i - 1)\n",
        "\n",
        "    # Calcular utilidad de todos los posibles escenarios de cada periodo\n",
        "    u_actual_seguro = [utilidadConsumo(r, consumo) for consumo in actual_seguro[:,1]]\n",
        "    u_actual_desemp = utilidadConsumo(r, actual_desemp[1])\n",
        "    u_actual_empleo = utilidadConsumo(r, actual_empleo[1])\n",
        "\n",
        "    # Utilidad esperada\n",
        "    consumo_periodo = probs_seguro.dot(u_actual_seguro)\n",
        "    consumo_periodo += prob_des*u_actual_desemp + prob_empleo*u_actual_empleo\n",
        "    path_esperado_consumos.append(consumo_periodo)\n",
        "\n",
        "    # Ahorro esperado\n",
        "    ahorro_periodo = probs_seguro.dot(actual_seguro[:,0])\n",
        "    ahorro_periodo += prob_des*actual_desemp[0] + prob_empleo*actual_empleo[0]\n",
        "    ahorros = ahorro_periodo\n",
        "\n",
        "  return path_esperado_consumos\n",
        "\n",
        "def utilidadDescontada(prd, periodos, ahorros, w, r, delta):\n",
        "  '''\n",
        "  Return: (float) suma de utilidad del consumo del periodo actual\n",
        "  y la utilidad descontada del consumo de los periodos futuros\n",
        "  '''\n",
        "  if periodos:\n",
        "    # Determinar path de consumo y ahorro en ultimo periodo\n",
        "    u_consumos = pathConsumo(prd, periodos, ahorros, w, r)\n",
        "    # Determinar utilidad esperada descontada para todos los los periodos\n",
        "    uDescontada = [((1/(1+delta))**(periodo + 1))*u_consumo for periodo, u_consumo in enumerate(u_consumos)]\n",
        "    return sum(uDescontada)\n",
        "  else:\n",
        "    return 0"
      ]
    },
    {
      "cell_type": "code",
      "execution_count": null,
      "metadata": {
        "colab": {
          "background_save": true
        },
        "collapsed": true,
        "id": "W4JmhsmhJw5d"
      },
      "outputs": [],
      "source": [
        "pd.options.mode.chained_assignment = None\n",
        "\n",
        "def simulacionSeguroDesempleo(meses, num_sim): \n",
        "\n",
        "  simul = prefs[['rhat', 'dhat', 'w', 'prd', 'pdesp']]\n",
        "  simul['empleado'] = 1\n",
        "  simul['ahorros'] = 0\n",
        "  simul['consumo'] = 0\n",
        "  simul['utilidad'] = 0\n",
        "  simul['contribucion'] = ''\n",
        "  simul['seguro'] = 5\n",
        "  simul['ultimo_periodo_seguro'] = 0 \n",
        "\n",
        "  tasas_empleo = []\n",
        "  utilidad_simul = []\n",
        "\n",
        "  df_res = pd.DataFrame(index=prefs.index)\n",
        "\n",
        "  for i in range(meses):\n",
        "\n",
        "    #Decidir si persona esta empleada o no\n",
        "    simul['empleado'] = simul.apply(lambda d: estado_empleo(d['empleado'], d['prd']), axis = 1)\n",
        "\n",
        "    # Agregar contribución\n",
        "    simul['contribucion'] = simul.apply(lambda d: aggContribucion(d['empleado'], d['contribucion']), axis = 1)\n",
        "\n",
        "    # Si desempleado, checkear elegibilidad al SD\n",
        "    simul['seguro'] = simul.apply(lambda d: seguro(d['empleado'], d['contribucion'], d['ultimo_periodo_seguro']), axis = 1)\n",
        "\n",
        "    # Si pagaron seguro, tomar nota\n",
        "    simul['ultimo_periodo_seguro'] = simul.apply(lambda d: ultimo_seguro(d['seguro'], i, d['ultimo_periodo_seguro']), axis = 1)\n",
        "\n",
        "    # Pagar salario o seguro de desempleo, ahorrar y consumir.\n",
        "    simul[['ahorros', 'consumo']] = simul.apply(lambda d: updateAhorroConsumo(d['empleado'], d['ahorros'], d['w'], meses - i - 1, d['seguro']),\n",
        "                                                      axis = 1, result_type = 'expand')\n",
        "    # Calcular utilidad del periodo y descontada\n",
        "    simul['utilidad'] = simul.apply(lambda d: utilidadConsumo(d['rhat'], d['consumo']) +\n",
        "                          utilidadDescontada(d['pdesp'], meses - i - 1, d['ahorros'], d['w'], d['rhat'], d['dhat']), axis = 1)\n",
        "\n",
        "    # Agregar la utilidad de cada persona/mes\n",
        "    #utilidad_ronda = simul['utilidad'].sum()\n",
        "\n",
        "    df_res.insert(0, f'u_{num_sim}_{i}', simul['utilidad'])\n",
        "\n",
        "    #utilidad_simul.append(utilidad_ronda)\n",
        "\n",
        "    # Agregar la tasa de emplo de cada mes\n",
        "    #tasa_empleo = simul['empleado'].sum()/len(simul)\n",
        "    #tasas_empleo.append(tasa_empleo)\n",
        "\n",
        "    # if not i % 15:\n",
        "    #   print(f'Ronda {i}/{str(meses)}', f'Utilidad por ronda: {round(utilidad_ronda, 2)}',\n",
        "    #         f'Utilidad agregada {utilidad_simul}', f'tasa de empleo: {round(100*tasa_empleo, 2)}%', sep = '\\n')\n",
        "    #   print('- * '*40)\n",
        "    #print(i, simul[['prd', 'w', 'ahorros', 'consumo','dhat', 'rhat', 'utilidad', 'empleado']].head(), sep = '\\n')\n",
        "  #print('Utilidad acumulada final: ', utilidad_simul)\n",
        "\n",
        "  return df_res #, tasas_empleo , simul['contribucion']"
      ]
    },
    {
      "cell_type": "markdown",
      "metadata": {
        "id": "HLR4WztHjWQC"
      },
      "source": [
        "# Simulacion CTS"
      ]
    },
    {
      "cell_type": "markdown",
      "metadata": {
        "id": "G8Qm3VdkjjI6"
      },
      "source": [
        "Para el caso del sistema de compensación de tiempo de servicios (CTS), tomamos los siguientes supuestos específicos: todos los individuos trabajan y no tienen fondos disponibles en su cuenta de CTS al inicio del periodo de análisis; los gastos administrativos son nulos; la CTS se va acumulando progresivamente de manera mensual (como un doceavo del salario mensual) y, al ser separado del puesto de trabajo, se consumeen su totalidad en el mes de desempleo inmediato; para controlar por los efectos deequilibrio general en los salarios, asumimos que la CTS se compensa con un descuentoproporcional en los salarios de manera mensual; es decir, los salarios son aproximadamente un 91.6 % (∼11/12) de lo que son en ausencia de CTS. El último supuesto es importante e implica que el trabajador asume el costo de la CTS mediante salarios más bajos.\n",
        "\n",
        "Al igual que en el escenario anterior, asumimos que hay dos estados de naturaleza: empleo y desempleo. En el estado de empleo, el trabajador consume su salario menos la “contribución” a la CTS; y en el de desempleo, consume toda su CTS que tenía acumulada hasta antes de ser separado. También como en el escenario anterior, asumimos que existe un consumo mínimo de S/200."
      ]
    },
    {
      "cell_type": "code",
      "execution_count": null,
      "metadata": {
        "colab": {
          "background_save": true
        },
        "id": "STdwuOc6jVU7"
      },
      "outputs": [],
      "source": [
        "def ingresoCTS(empleado, w, CTS):\n",
        "  '''\n",
        "  Returns: ingreso mensual nominal (float)\n",
        "  '''\n",
        "  return (1 - 1/12)*w if empleado else CTS\n",
        "\n",
        "def updateAhorroConsumoCTS(empleado, CTS, ahorros, w, periodo):\n",
        "  '''\n",
        "  Returns: monto nominal de ahorro y consumo (tuple of floats)\n",
        "\n",
        "  empleado: estado de empleo en ese periodo (bool)\n",
        "  ahorros: monto nominal ahorrado (float)\n",
        "  w: salario previo descuentos (float)\n",
        "  periodo: numero de periodos restantes\n",
        "  seguro: si desempleado, mes consecutivo en desempleo (int.)\n",
        "  '''\n",
        "  ingre = ingresoCTS(empleado, w, CTS)\n",
        "\n",
        "  if not periodo:\n",
        "\n",
        "    ingre += CTS\n",
        "    consumo = ahorros + ingre\n",
        "    ahorros = 0\n",
        "\n",
        "  else:\n",
        "    # Si empleado - gastas 90% de tus ingresos\n",
        "    if empleado:\n",
        "      #CTS += 1/12*w\n",
        "      #ingre = ingreso(empleado, w, CTS)\n",
        "      consumo = .9*ingre\n",
        "      ahorros += ingre - consumo\n",
        "\n",
        "    # Si no empleado: usas heuristica para decidir consumo:\n",
        "    else:\n",
        "      #ingre = ingreso(empleado, w, CTS)\n",
        "    # E.g si tus ahorros + ingresos - gastos > gastos --> gastas\n",
        "    # sino, reduces tus gastos hasta cumplir la desigualdad\n",
        "      for i in reversed(range(1, 5)):\n",
        "        gasto = (i/5)*w # Empiezas tratando de gastar 80% del sueldo y vas bajando por 20pp\n",
        "        if ahorros + ingre > 2*gasto:\n",
        "          consumo = gasto\n",
        "          ahorros += ingre - gasto\n",
        "          # if CTS >= gasto:\n",
        "          #   CTS += - gasto\n",
        "          # else:\n",
        "          #   CTS = 0\n",
        "          break\n",
        "      else:\n",
        "          ahorros = 0 # Si no logras guardar 20% de tu sueldo, gastas todo\n",
        "          consumo = ahorros + ingre\n",
        "          #CTS = 0\n",
        "\n",
        "  return ahorros, consumo\n",
        "\n",
        "def pathAhorroConsumoCTS(prd, periodos, ahorros, w, CTS):\n",
        "  '''\n",
        "  Return: (tuple: float, list) ahorros periodo final y path esperado de consumos \n",
        "  para el periodo actual y los periodos futuros usando la probabilidad total de los eventos\n",
        "\n",
        "  prd: probabilidad subj. de despido en forma original (1-10)\n",
        "  periodos: periodos restantes antes de finalizar vida laboral (int)\n",
        "  ahorros: monto nominal ahorrado (float)\n",
        "  w: salario previo descuentos (float)\n",
        "  '''\n",
        "  # Determinar probabilidad total de empleo, de ser elegible a algun pago del seguro y de no serlo\n",
        "  prob_empleo = 1 - sum(dist_d[prd].values())\n",
        "  prob_des = 1 - prob_empleo\n",
        "  # Guardar path en listas\n",
        "  path_esperado_consumos = []\n",
        "  # Loop sobre los periodos\n",
        "  for i in range(periodos):     # empleado, CTS, ahorros, w, periodo\n",
        "    # Posibles ingresos bajo todos los escenarios\n",
        "    actual_desemp = updateAhorroConsumoCTS(False, CTS, ahorros, w, periodos - i - 1) # No eres elegible al seguro. \n",
        "    actual_empleo = updateAhorroConsumoCTS(True, CTS, ahorros, w, periodos - i - 1)\n",
        "    # Consumo esperado\n",
        "    consumo_periodo = prob_des*actual_desemp[1]\n",
        "    consumo_periodo += prob_empleo*actual_empleo[1]\n",
        "    path_esperado_consumos.append(consumo_periodo)\n",
        "    # Ahorro esperado\n",
        "    ahorro_periodo = prob_des*actual_desemp[0]\n",
        "    ahorro_periodo += prob_empleo*actual_empleo[0]\n",
        "    ahorros = ahorro_periodo\n",
        "\n",
        "  return path_esperado_consumos, ahorros\n",
        "\n",
        "def updateCTS(CTS, empleado, w):\n",
        "  CTS += 1/12*w\n",
        "  return CTS if empleado else 0\n",
        "\n",
        "def utilidadDescontadaCTS(prd, periodos, ahorros, w, r, delta, CTS):\n",
        "  '''\n",
        "  Return: (float) suma de utilidad del consumo del periodo actual\n",
        "  y la utilidad descontada del consumo de los periodos futuros\n",
        "  '''\n",
        "  if periodos:\n",
        "    # Determinar path de consumo y ahorro en ultimo periodo\n",
        "    consumos, ahorros = pathAhorroConsumoCTS(prd, periodos, ahorros, w, CTS)\n",
        "    # Determinar utilidad esperada descontada para todos los los periodos\n",
        "    uDescontada = 0\n",
        "    for periodo, consumo in enumerate(consumos):\n",
        "      uDescontada += ((1/(1+delta))**(periodo + 1))*utilidadConsumo(r, consumo) \n",
        "    # En el ultimo periodo de tu vida consumes todos tus ahorros\n",
        "    uDescontada += (1/(1+delta))**(periodo)*utilidadConsumo(r, ahorros)\n",
        "    return uDescontada\n",
        "  else:\n",
        "    return 0"
      ]
    },
    {
      "cell_type": "code",
      "execution_count": null,
      "metadata": {
        "colab": {
          "background_save": true
        },
        "id": "owop7faU2sRR"
      },
      "outputs": [],
      "source": [
        "def simulacionCTS(meses, num_sim): \n",
        "\n",
        "  simul = prefs[['rhat', 'dhat', 'w', 'prd', 'pdesp']]\n",
        "  simul['empleado'] = 1\n",
        "  simul['ahorros'] = 0\n",
        "  simul['CTS'] = 0\n",
        "  simul['consumo'] = 0\n",
        "  simul['utilidad'] = 0\n",
        "\n",
        "  tasas_empleo = []\n",
        "  utilidad_simul = []\n",
        "\n",
        "  df_res = pd.DataFrame(index=prefs.index)\n",
        "\n",
        "  for i in range(meses):\n",
        "\n",
        "    #Decidir si persona esta empleada o no\n",
        "    simul['empleado'] = simul.apply(lambda d: estado_empleo(d['empleado'], d['prd']), axis = 1)\n",
        "\n",
        "    # Pagar salario o seguro de desempleo, ahorrar y consumir.\n",
        "    simul[['ahorros', 'consumo']] = simul.apply(lambda d: updateAhorroConsumoCTS(d['empleado'], d['CTS'], d['ahorros'], d['w'], meses - i - 1),\n",
        "                                                      axis = 1, result_type = 'expand')\n",
        "    # Update CTS\n",
        "    simul['CTS'] = simul.apply(lambda d: updateCTS(d['CTS'], d['empleado'], d['w']), axis = 1)\n",
        "\n",
        "    # Calcular utilidad del periodo y descontada\n",
        "    simul['utilidad'] = simul.apply(lambda d: utilidadConsumo(d['rhat'], d['consumo']) +\n",
        "                          utilidadDescontadaCTS(d['pdesp'], meses - i - 1, d['ahorros'], d['w'], d['rhat'], d['dhat'], d['CTS']), axis = 1)\n",
        "\n",
        "    # Agregar la utilidad de cada persona/mes\n",
        "    #utilidad_ronda = simul['utilidad'].sum()\n",
        "\n",
        "    df_res.insert(0, f'u_{num_sim}_{i}', simul['utilidad'])\n",
        "\n",
        "    #utilidad_simul.append(utilidad_ronda)\n",
        "\n",
        "    # Agregar la tasa de emplo de cada mes\n",
        "    #tasa_empleo = simul['empleado'].sum()/len(simul)\n",
        "    #tasas_empleo.append(tasa_empleo)\n",
        "\n",
        "  return df_res # , tasas_empleo"
      ]
    },
    {
      "cell_type": "code",
      "execution_count": null,
      "metadata": {
        "colab": {
          "background_save": true,
          "base_uri": "https://localhost:8080/"
        },
        "id": "YYF_CKLgRCMS",
        "outputId": "2ccf1d22-cfc9-40a2-980e-60e0941aaa65"
      },
      "outputs": [
        {
          "name": "stderr",
          "output_type": "stream",
          "text": [
            "100%|██████████| 90/90 [3:33:38<00:00, 142.43s/it]\n"
          ]
        }
      ],
      "source": [
        "from tqdm import tqdm\n",
        "Numero_simulaciones = 90\n",
        "Numero_meses = 60\n",
        "\n",
        "# Simular SD\n",
        "utilidades_SD = pd.DataFrame(index=prefs.index)\n",
        "utilidades_CTS = pd.DataFrame(index=prefs.index)\n",
        "for i in tqdm(range(Numero_simulaciones)): \n",
        "  utilidad_simulacionSD = simulacionSeguroDesempleo(Numero_meses, i)\n",
        "  utilidades_SD[f'suma_{i}'] = utilidad_simulacionSD.sum(axis=1)\n",
        "\n",
        "# Simular CTS\n",
        "  utilidad_simulacionCTS = simulacionCTS(Numero_meses, i)\n",
        "  utilidades_CTS[f'suma_{i}'] = utilidad_simulacionCTS.sum(axis=1)\n",
        "\n",
        "prom_SD = utilidades_SD.sum(axis=1).div(len(utilidades_SD.columns))\n",
        "prom_CTS = utilidades_CTS.sum(axis=1).div(len(utilidades_CTS.columns))\n",
        "\n",
        "#print(utilidades_SD)\n",
        "#print(utilidades_CTS)"
      ]
    },
    {
      "cell_type": "code",
      "execution_count": null,
      "metadata": {
        "colab": {
          "background_save": true
        },
        "id": "kxZIn0e-aeNK",
        "outputId": "fea215c8-9787-400e-b214-fe2f3a7bf13b"
      },
      "outputs": [
        {
          "data": {
            "application/javascript": "\n    async function download(id, filename, size) {\n      if (!google.colab.kernel.accessAllowed) {\n        return;\n      }\n      const div = document.createElement('div');\n      const label = document.createElement('label');\n      label.textContent = `Downloading \"${filename}\": `;\n      div.appendChild(label);\n      const progress = document.createElement('progress');\n      progress.max = size;\n      div.appendChild(progress);\n      document.body.appendChild(div);\n\n      const buffers = [];\n      let downloaded = 0;\n\n      const channel = await google.colab.kernel.comms.open(id);\n      // Send a message to notify the kernel that we're ready.\n      channel.send({})\n\n      for await (const message of channel.messages) {\n        // Send a message to notify the kernel that we're ready.\n        channel.send({})\n        if (message.buffers) {\n          for (const buffer of message.buffers) {\n            buffers.push(buffer);\n            downloaded += buffer.byteLength;\n            progress.value = downloaded;\n          }\n        }\n      }\n      const blob = new Blob(buffers, {type: 'application/binary'});\n      const a = document.createElement('a');\n      a.href = window.URL.createObjectURL(blob);\n      a.download = filename;\n      div.appendChild(a);\n      a.click();\n      div.remove();\n    }\n  ",
            "text/plain": [
              "<IPython.core.display.Javascript object>"
            ]
          },
          "metadata": {},
          "output_type": "display_data"
        },
        {
          "data": {
            "application/javascript": "download(\"download_8d07aaec-d419-4eef-bea7-e8e345362d59\", \"resultados_simul_RT.csv\", 125667)",
            "text/plain": [
              "<IPython.core.display.Javascript object>"
            ]
          },
          "metadata": {},
          "output_type": "display_data"
        },
        {
          "data": {
            "text/html": [
              "<div>\n",
              "<style scoped>\n",
              "    .dataframe tbody tr th:only-of-type {\n",
              "        vertical-align: middle;\n",
              "    }\n",
              "\n",
              "    .dataframe tbody tr th {\n",
              "        vertical-align: top;\n",
              "    }\n",
              "\n",
              "    .dataframe thead th {\n",
              "        text-align: right;\n",
              "    }\n",
              "</style>\n",
              "<table border=\"1\" class=\"dataframe\">\n",
              "  <thead>\n",
              "    <tr style=\"text-align: right;\">\n",
              "      <th></th>\n",
              "      <th>rhat</th>\n",
              "      <th>dhat</th>\n",
              "      <th>w</th>\n",
              "      <th>prd</th>\n",
              "      <th>pdesp</th>\n",
              "      <th>SD</th>\n",
              "      <th>CTS</th>\n",
              "    </tr>\n",
              "  </thead>\n",
              "  <tbody>\n",
              "    <tr>\n",
              "      <th>0</th>\n",
              "      <td>3.717</td>\n",
              "      <td>0.059</td>\n",
              "      <td>1200.000</td>\n",
              "      <td>0.017</td>\n",
              "      <td>1.000</td>\n",
              "      <td>286.909</td>\n",
              "      <td>286.910</td>\n",
              "    </tr>\n",
              "    <tr>\n",
              "      <th>1</th>\n",
              "      <td>0.356</td>\n",
              "      <td>1.551</td>\n",
              "      <td>1800.000</td>\n",
              "      <td>0.017</td>\n",
              "      <td>1.000</td>\n",
              "      <td>17995.537</td>\n",
              "      <td>17675.481</td>\n",
              "    </tr>\n",
              "    <tr>\n",
              "      <th>2</th>\n",
              "      <td>0.329</td>\n",
              "      <td>1.497</td>\n",
              "      <td>4027.554</td>\n",
              "      <td>0.017</td>\n",
              "      <td>1.000</td>\n",
              "      <td>36879.996</td>\n",
              "      <td>36346.690</td>\n",
              "    </tr>\n",
              "    <tr>\n",
              "      <th>3</th>\n",
              "      <td>1.375</td>\n",
              "      <td>1.631</td>\n",
              "      <td>2000.000</td>\n",
              "      <td>0.133</td>\n",
              "      <td>8.000</td>\n",
              "      <td>233.599</td>\n",
              "      <td>236.474</td>\n",
              "    </tr>\n",
              "    <tr>\n",
              "      <th>4</th>\n",
              "      <td>0.584</td>\n",
              "      <td>0.641</td>\n",
              "      <td>1200.000</td>\n",
              "      <td>0.050</td>\n",
              "      <td>3.000</td>\n",
              "      <td>6242.161</td>\n",
              "      <td>6128.787</td>\n",
              "    </tr>\n",
              "    <tr>\n",
              "      <th>...</th>\n",
              "      <td>...</td>\n",
              "      <td>...</td>\n",
              "      <td>...</td>\n",
              "      <td>...</td>\n",
              "      <td>...</td>\n",
              "      <td>...</td>\n",
              "      <td>...</td>\n",
              "    </tr>\n",
              "    <tr>\n",
              "      <th>1293</th>\n",
              "      <td>0.763</td>\n",
              "      <td>1.581</td>\n",
              "      <td>850.000</td>\n",
              "      <td>0.017</td>\n",
              "      <td>1.000</td>\n",
              "      <td>1569.785</td>\n",
              "      <td>1548.472</td>\n",
              "    </tr>\n",
              "    <tr>\n",
              "      <th>1294</th>\n",
              "      <td>0.914</td>\n",
              "      <td>1.537</td>\n",
              "      <td>2250.000</td>\n",
              "      <td>0.017</td>\n",
              "      <td>1.000</td>\n",
              "      <td>1052.111</td>\n",
              "      <td>1042.894</td>\n",
              "    </tr>\n",
              "    <tr>\n",
              "      <th>1295</th>\n",
              "      <td>0.767</td>\n",
              "      <td>1.235</td>\n",
              "      <td>2000.000</td>\n",
              "      <td>0.017</td>\n",
              "      <td>1.000</td>\n",
              "      <td>2180.750</td>\n",
              "      <td>2151.647</td>\n",
              "    </tr>\n",
              "    <tr>\n",
              "      <th>1296</th>\n",
              "      <td>0.864</td>\n",
              "      <td>0.904</td>\n",
              "      <td>1400.000</td>\n",
              "      <td>0.017</td>\n",
              "      <td>1.000</td>\n",
              "      <td>1501.332</td>\n",
              "      <td>1485.490</td>\n",
              "    </tr>\n",
              "    <tr>\n",
              "      <th>1297</th>\n",
              "      <td>0.771</td>\n",
              "      <td>1.564</td>\n",
              "      <td>350.000</td>\n",
              "      <td>0.017</td>\n",
              "      <td>1.000</td>\n",
              "      <td>1166.440</td>\n",
              "      <td>1150.212</td>\n",
              "    </tr>\n",
              "  </tbody>\n",
              "</table>\n",
              "<p>1298 rows × 7 columns</p>\n",
              "</div>"
            ],
            "text/plain": [
              "      rhat  dhat        w   prd  pdesp        SD       CTS\n",
              "0    3.717 0.059 1200.000 0.017  1.000   286.909   286.910\n",
              "1    0.356 1.551 1800.000 0.017  1.000 17995.537 17675.481\n",
              "2    0.329 1.497 4027.554 0.017  1.000 36879.996 36346.690\n",
              "3    1.375 1.631 2000.000 0.133  8.000   233.599   236.474\n",
              "4    0.584 0.641 1200.000 0.050  3.000  6242.161  6128.787\n",
              "...    ...   ...      ...   ...    ...       ...       ...\n",
              "1293 0.763 1.581  850.000 0.017  1.000  1569.785  1548.472\n",
              "1294 0.914 1.537 2250.000 0.017  1.000  1052.111  1042.894\n",
              "1295 0.767 1.235 2000.000 0.017  1.000  2180.750  2151.647\n",
              "1296 0.864 0.904 1400.000 0.017  1.000  1501.332  1485.490\n",
              "1297 0.771 1.564  350.000 0.017  1.000  1166.440  1150.212\n",
              "\n",
              "[1298 rows x 7 columns]"
            ]
          },
          "execution_count": null,
          "metadata": {},
          "output_type": "execute_result"
        }
      ],
      "source": [
        "from google.colab import files\n",
        "m = pd.concat([prefs[['rhat', 'dhat', 'w', 'prd', 'pdesp']], prom_SD, prom_CTS], axis=1)\n",
        "m.rename(columns={0: 'SD', 1: 'CTS'}, inplace=True)\n",
        "m.to_csv('resultados_simul_RT_2.csv') \n",
        "files.download('resultados_simul_RT.csv')\n",
        "\n",
        "m"
      ]
    },
    {
      "cell_type": "markdown",
      "metadata": {
        "id": "x42HpI_NHI8G"
      },
      "source": [
        "\n",
        "\n",
        "---\n",
        "\n",
        "# Comparación de distribuciones de utilidad\n",
        "\n",
        "> wilcoxon sign rank test\n",
        "\n",
        "> Paired t-test\n",
        "\n",
        "> regresion: utilidad_SD - utilidad_CTS = tasa_descuento + crra + w + pdesp + e\n",
        "\n",
        "> Mas ideas de analisis???\n",
        "\n",
        "> EXTRA : PENSAR SI SACAMOS OUTLIERS DE UTILIDAD (eg. sujetos con tasa_descuento < 0 y r muy negativo -- crear dummy con los 2 en uno) \n",
        "\n",
        "> sacar el promedio de cada periodo del ahorro total, tasa de desempleo y consumo a lo largo y promediarlo para mostrar en grafico\n",
        "---\n",
        "\n"
      ]
    }
  ],
  "metadata": {
    "colab": {
      "name": "RiesgoTiempoSimul.ipynb",
      "provenance": []
    },
    "kernelspec": {
      "display_name": "Python 3",
      "name": "python3"
    },
    "language_info": {
      "name": "python"
    }
  },
  "nbformat": 4,
  "nbformat_minor": 0
}
