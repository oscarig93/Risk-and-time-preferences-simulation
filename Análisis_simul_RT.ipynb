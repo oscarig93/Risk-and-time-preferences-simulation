{
  "nbformat": 4,
  "nbformat_minor": 0,
  "metadata": {
    "colab": {
      "name": "Análisis_simul_RT.ipynb",
      "provenance": []
    },
    "kernelspec": {
      "display_name": "Python 3",
      "language": "python",
      "name": "python3"
    },
    "language_info": {
      "codemirror_mode": {
        "name": "ipython",
        "version": 3
      },
      "file_extension": ".py",
      "mimetype": "text/x-python",
      "name": "python",
      "nbconvert_exporter": "python",
      "pygments_lexer": "ipython3",
      "version": "3.6.6+"
    }
  },
  "cells": [
    {
      "cell_type": "code",
      "metadata": {
        "cellView": "form",
        "colab": {
          "base_uri": "https://localhost:8080/"
        },
        "id": "DfJ5d-N21agw",
        "outputId": "4c178c24-601f-4a16-cfda-20e137802cd4"
      },
      "source": [
        "import pandas as pd\n",
        "pd.options.display.float_format = '{:.3f}'.format\n",
        "import os\n",
        "import numpy as np\n",
        "import matplotlib.pyplot as plt\n",
        "\n",
        "from google.colab import drive\n",
        "\n",
        "drive.mount('/content/drive')\n",
        "os.chdir('/content/drive/My Drive/Preferencias Grade')\n",
        "\n",
        "m = pd.read_csv('resultados_simul_RT_2.csv')\n",
        "\n",
        "m.info()"
      ],
      "execution_count": 1,
      "outputs": [
        {
          "output_type": "stream",
          "name": "stdout",
          "text": [
            "Mounted at /content/drive\n",
            "<class 'pandas.core.frame.DataFrame'>\n",
            "RangeIndex: 1298 entries, 0 to 1297\n",
            "Data columns (total 8 columns):\n",
            " #   Column      Non-Null Count  Dtype  \n",
            "---  ------      --------------  -----  \n",
            " 0   Unnamed: 0  1298 non-null   int64  \n",
            " 1   rhat        1298 non-null   float64\n",
            " 2   dhat        1298 non-null   float64\n",
            " 3   w           1298 non-null   float64\n",
            " 4   prd         1298 non-null   float64\n",
            " 5   pdesp       1298 non-null   float64\n",
            " 6   SD          1298 non-null   float64\n",
            " 7   CTS         1298 non-null   float64\n",
            "dtypes: float64(7), int64(1)\n",
            "memory usage: 81.2 KB\n"
          ]
        }
      ]
    },
    {
      "cell_type": "markdown",
      "metadata": {
        "id": "ZhGF_0Gfz1xB"
      },
      "source": [
        "# Análisis de resultados de simulaciones de seguro de desempleo y CTS\n",
        "\n",
        "* Para ambos, el seguro de desempleo y el CTS, corrimos 90 simulaciones de 60 periodos cada una. (Cada periodo representa un mes de vida.)\n",
        "\n",
        "\n",
        "* Para comparar el beneficio que brinda cada política nos basamos en el promedio de la utilidad de cada sujeto en cada simulación bajo ambos sistemas.\n",
        "\n",
        "> Explotamos la estructura de dependencia en los datos (contamos observaciones del mismo sujeto bajo SD y CTS) para controlar por características de cada sujeto."
      ]
    },
    {
      "cell_type": "markdown",
      "metadata": {
        "id": "p8RQAbC5RNGi"
      },
      "source": [
        "# Distribucion de utilidad Simulada Seguro Desempleo"
      ]
    },
    {
      "cell_type": "markdown",
      "metadata": {
        "id": "o8yGtrgDyuwj"
      },
      "source": [
        "$U_{SD}$\n",
        "\n",
        "Utilidad censurada en 12000 utiles"
      ]
    },
    {
      "cell_type": "code",
      "metadata": {
        "cellView": "form",
        "colab": {
          "base_uri": "https://localhost:8080/",
          "height": 418
        },
        "id": "2ca3AAhE1ikz",
        "outputId": "31449b5e-83e9-4d89-fe0d-4d2479449c00"
      },
      "source": [
        "print(m['SD'].describe())\n",
        "m['SD'].clip(np.nan, 12000).hist(bins=20);"
      ],
      "execution_count": 2,
      "outputs": [
        {
          "output_type": "stream",
          "name": "stdout",
          "text": [
            "count                                       1298.000\n",
            "mean        807814593475864050391830473337733120.000\n",
            "std       28788189821245389605009150727440826368.000\n",
            "min                                           12.449\n",
            "25%                                          183.429\n",
            "50%                                          682.768\n",
            "75%                                         6847.754\n",
            "max     1037126234882634059820926275594978590720.000\n",
            "Name: SD, dtype: float64\n"
          ]
        },
        {
          "output_type": "display_data",
          "data": {
            "image/png": "[encoded data removed]",
            "text/plain": [
              "<Figure size 432x288 with 1 Axes>"
            ]
          },
          "metadata": {
            "needs_background": "light"
          }
        }
      ]
    },
    {
      "cell_type": "markdown",
      "metadata": {
        "id": "hDz-6lqJRSpY"
      },
      "source": [
        "# Distribucion de  Utilidad Simulada CTS\n",
        "\n",
        "$U_{CTS}$\n"
      ]
    },
    {
      "cell_type": "code",
      "metadata": {
        "cellView": "form",
        "colab": {
          "base_uri": "https://localhost:8080/",
          "height": 418
        },
        "id": "AbvOuJef1tO5",
        "outputId": "c4288ff4-82c7-43fd-ce1d-8d2778c45512"
      },
      "source": [
        "print(m['CTS'].describe())\n",
        "m['CTS'].clip(np.nan, 12000).hist(bins=20);"
      ],
      "execution_count": 3,
      "outputs": [
        {
          "output_type": "stream",
          "name": "stdout",
          "text": [
            "count                                      1298.000\n",
            "mean       467424975132829435068857199307522048.000\n",
            "std      16660977947204251617872563148611911680.000\n",
            "min                                          18.111\n",
            "25%                                         183.530\n",
            "50%                                         679.280\n",
            "75%                                        6734.187\n",
            "max     600231368627510447286746238500145725440.000\n",
            "Name: CTS, dtype: float64\n"
          ]
        },
        {
          "output_type": "display_data",
          "data": {
            "image/png": "[encoded data removed]",
            "text/plain": [
              "<Figure size 432x288 with 1 Axes>"
            ]
          },
          "metadata": {
            "needs_background": "light"
          }
        }
      ]
    },
    {
      "cell_type": "markdown",
      "metadata": {
        "id": "NqcKNHc6RZEO"
      },
      "source": [
        "# La diferencia por persona"
      ]
    },
    {
      "cell_type": "markdown",
      "metadata": {
        "id": "_bd8gsFB2hq3"
      },
      "source": [
        "$U_{SD} - U_{CTS}$"
      ]
    },
    {
      "cell_type": "code",
      "metadata": {
        "cellView": "form",
        "colab": {
          "base_uri": "https://localhost:8080/"
        },
        "id": "ayYfOjiq553I",
        "outputId": "e665ce95-8771-44ea-f184-df5a09b355f6"
      },
      "source": [
        "m['dif'] = m['SD'] - m['CTS']\n",
        "m['dif'].describe()"
      ],
      "execution_count": 4,
      "outputs": [
        {
          "output_type": "execute_result",
          "data": {
            "text/plain": [
              "count                                      1298.000\n",
              "mean       340389618343034615322973274030211072.000\n",
              "std      12127212882062680440384017121809530880.000\n",
              "min                        -9258312416543039488.000\n",
              "25%                                          -0.154\n",
              "50%                                           0.186\n",
              "75%                                          27.031\n",
              "max     436894866255123612534180037094832865280.000\n",
              "Name: dif, dtype: float64"
            ]
          },
          "metadata": {},
          "execution_count": 4
        }
      ]
    },
    {
      "cell_type": "markdown",
      "metadata": {
        "id": "tudc4AkJy5kb"
      },
      "source": [
        "Censurada en -5000 y 5000 utiles"
      ]
    },
    {
      "cell_type": "code",
      "metadata": {
        "cellView": "form",
        "colab": {
          "base_uri": "https://localhost:8080/",
          "height": 266
        },
        "id": "reifl5VJ6c0Q",
        "outputId": "09213675-1a40-4762-cf0a-cbef552d8892"
      },
      "source": [
        "m['dif'].clip(-5000, 5000).hist(bins=20);"
      ],
      "execution_count": 5,
      "outputs": [
        {
          "output_type": "display_data",
          "data": {
            "image/png": "[encoded data removed]",
            "text/plain": [
              "<Figure size 432x288 with 1 Axes>"
            ]
          },
          "metadata": {
            "needs_background": "light"
          }
        }
      ]
    },
    {
      "cell_type": "markdown",
      "metadata": {
        "id": "eALmJrbRRgaB"
      },
      "source": [
        "# Comparación de distribuciones: tests estadísticos"
      ]
    },
    {
      "cell_type": "markdown",
      "metadata": {
        "id": "l0RVn8AJccHk"
      },
      "source": [
        "##Comparaciones con toda la muestra: \n",
        "\n",
        "*   los tests no paramétricos rechazan holgadamente la hipótesis nula que la mediana de la diferencia de utilidades es 0.\n",
        "\n",
        "*   El t-test no puede rechazar la hipótesis nula.\n"
      ]
    },
    {
      "cell_type": "code",
      "metadata": {
        "cellView": "form",
        "colab": {
          "base_uri": "https://localhost:8080/"
        },
        "id": "GZi9eRi01t-d",
        "outputId": "b7500d8a-a0d1-43e4-a28c-3a079f1478a2"
      },
      "source": [
        "from scipy.stats import wilcoxon, ttest_rel, binom_test\n",
        "\n",
        "# Paired t-test\n",
        "s, pv = ttest_rel(m['SD'], m['CTS'])\n",
        "\n",
        "print(f'Media utilidad de SD: {m.SD.mean()}.', f'Media utilidad de CTS: {m.CTS.mean()}.',\n",
        "      f'T-statistic: {s}.', f'P-val: {pv}.', sep = '\\n', end = '\\n\\n')\n",
        "\n",
        "# Wilcoxon\n",
        "d = m['SD'] - m['CTS']\n",
        "w, p = wilcoxon(d)\n",
        "print(f'Media de diferencia utilidad: {np.mean(d)}.', f'Mediana de diferencia utilidad {np.median(d)}.', \\\n",
        "      f'Wilcoxon statistic: {w}.', f'P-val: {p}.', sep = '\\n', end = '\\n\\n')\n",
        "\n",
        "#sign test\n",
        "mayor = m[m['dif'] > 0]['dif'].size\n",
        "todos = m['dif'].size\n",
        "g = binom_test(mayor, todos, p=0.5)\n",
        "print(f'Sign test p-val: {g}.', f'Con {mayor} sujetos con u_sd > u_cts del total de {todos}.', \n",
        "      sep = '\\n', end = '\\n\\n')\n",
        "\n"
      ],
      "execution_count": 6,
      "outputs": [
        {
          "output_type": "stream",
          "name": "stdout",
          "text": [
            "Media utilidad de SD: 8.07814593475864e+35.\n",
            "Media utilidad de CTS: 4.674249751328294e+35.\n",
            "T-statistic: 1.0112362998600255.\n",
            "P-val: 0.3120919553937859.\n",
            "\n",
            "Media de diferencia utilidad: 3.403896183430346e+35.\n",
            "Mediana de diferencia utilidad 0.18578667562063345.\n",
            "Wilcoxon statistic: 297338.0.\n",
            "P-val: 3.784159693586539e-20.\n",
            "\n",
            "Sign test p-val: 6.491251354640002e-07.\n",
            "Con 739 sujetos con u_sd > u_cts del total de 1298.\n",
            "\n"
          ]
        }
      ]
    },
    {
      "cell_type": "markdown",
      "metadata": {
        "id": "LLTWUBmNTit_"
      },
      "source": [
        "## Comparaciones por grupos:\n",
        "\n",
        "Usamos las diferencias en los parámetros de preferencias individuales para explicar los cambios de utilidad entre el seguro de desempleo y el CTS\n"
      ]
    },
    {
      "cell_type": "markdown",
      "metadata": {
        "id": "AaA7CEHpaOee"
      },
      "source": [
        "### T-Test"
      ]
    },
    {
      "cell_type": "markdown",
      "metadata": {
        "id": "4C_PtTJmNnZy"
      },
      "source": [
        "Con este test paramétrico encontramos diferencias estadisticamente significativas para dos grupos interesantes: \n",
        "\n",
        "1.   los moderadamente aversos al riesgo e impacientes (N=327)\n",
        "2.   Los muy aversos al riesgo y relativamente pacientes (N=102)\n",
        "\n",
        "> Ambas diferencias son a favor del seguro de desempleo.\n"
      ]
    },
    {
      "cell_type": "code",
      "metadata": {
        "cellView": "form",
        "colab": {
          "base_uri": "https://localhost:8080/",
          "height": 359
        },
        "id": "eooR3IAi1tpQ",
        "outputId": "ef8ae5e0-8d58-44b2-fce3-ffd69f3ad9a2"
      },
      "source": [
        "pd.reset_option('^display.', silent=True)\n",
        "\n",
        "m['riesgo'] = pd.cut(m.rhat,bins=[-20, 0, 1,20],labels=['AmanteRiesgo','Moderado','MuyAverso'])\n",
        "m['tiempo'] = pd.cut(m.dhat,bins=[-20, 0, 1,20],labels=['Loco','Paciente','Impaciente'])    \n",
        "\n",
        "c = m[['dif', 'riesgo', 'tiempo' ]].groupby(by=['riesgo', 'tiempo']).size()\n",
        "a = m[['SD', 'CTS', 'dif', 'riesgo', 'tiempo' ]].groupby(by=['riesgo', 'tiempo']).mean()\n",
        "\n",
        "tstats, pvals = [], []\n",
        "wstats, pwvals = [], []\n",
        "svals = []\n",
        "\n",
        "for riesgo in ('AmanteRiesgo', 'Moderado', 'MuyAverso'):\n",
        "  for tiempo in ['Loco', 'Paciente', 'Impaciente']:\n",
        "    \n",
        "    t = m[(m['riesgo'] == riesgo) & (m['tiempo'] == tiempo)]\n",
        "\n",
        "    #t-test\n",
        "    s, pv = ttest_rel(t['SD'] , t['CTS'])\n",
        "    tstats.append(s)\n",
        "    pvals.append(pv)\n",
        "\n",
        "    #wilcoxon\n",
        "    w, p = wilcoxon(t['SD'] , t['CTS'])\n",
        "    wstats.append(w)\n",
        "    pwvals.append(p)    \n",
        "\n",
        "    #sign test\n",
        "    g = binom_test(t[t['dif'] > 0]['dif'].size, t['dif'].size, p=0.5)\n",
        "    svals.append(g) \n",
        "\n",
        "def stars(pval):\n",
        "  if pval < .001: return 3*'*'\n",
        "  elif pval < .01: return 2*'*'\n",
        "  elif pval < .05: return '*'\n",
        "  else: return ''\n",
        "\n",
        "s = [stars(pval) for pval in pvals]\n",
        "p = [round(pv, 3) for pv in pvals]\n",
        "\n",
        "arrays = [[\"AmanteRiesgo\", \"AmanteRiesgo\", \"AmanteRiesgo\", \"Moderado\", \"Moderado\", \"Moderado\", 'MuyAverso', 'MuyAverso', 'MuyAverso'],\n",
        "          ['Loco','Paciente','Impaciente', 'Loco','Paciente','Impaciente', 'Loco','Paciente','Impaciente']]\n",
        "\n",
        "tuples = list(zip(*arrays))\n",
        "index = pd.MultiIndex.from_tuples(tuples, names=[\"riesgo\", \"tiempo\"])\n",
        "\n",
        "s = pd.Series(s, index=index, name=\"\")\n",
        "p = pd.Series(p, index=index, name='t-test p-val')\n",
        "\n",
        "r = pd.concat([c, a, p, s], axis = 1)\n",
        "r.rename(columns={0: \"N\", ('dif', 'mean'): \"dif. media\", ('dif', 'median'): 'dif. mediana'}, inplace=True)\n",
        "r"
      ],
      "execution_count": 7,
      "outputs": [
        {
          "output_type": "execute_result",
          "data": {
            "text/html": [
              "<div>\n",
              "<style scoped>\n",
              "    .dataframe tbody tr th:only-of-type {\n",
              "        vertical-align: middle;\n",
              "    }\n",
              "\n",
              "    .dataframe tbody tr th {\n",
              "        vertical-align: top;\n",
              "    }\n",
              "\n",
              "    .dataframe thead th {\n",
              "        text-align: right;\n",
              "    }\n",
              "</style>\n",
              "<table border=\"1\" class=\"dataframe\">\n",
              "  <thead>\n",
              "    <tr style=\"text-align: right;\">\n",
              "      <th></th>\n",
              "      <th></th>\n",
              "      <th>N</th>\n",
              "      <th>SD</th>\n",
              "      <th>CTS</th>\n",
              "      <th>dif</th>\n",
              "      <th>t-test p-val</th>\n",
              "      <th></th>\n",
              "    </tr>\n",
              "    <tr>\n",
              "      <th>riesgo</th>\n",
              "      <th>tiempo</th>\n",
              "      <th></th>\n",
              "      <th></th>\n",
              "      <th></th>\n",
              "      <th></th>\n",
              "      <th></th>\n",
              "      <th></th>\n",
              "    </tr>\n",
              "  </thead>\n",
              "  <tbody>\n",
              "    <tr>\n",
              "      <th rowspan=\"3\" valign=\"top\">AmanteRiesgo</th>\n",
              "      <th>Loco</th>\n",
              "      <td>17</td>\n",
              "      <td>6.167902e+37</td>\n",
              "      <td>3.568927e+37</td>\n",
              "      <td>2.598975e+37</td>\n",
              "      <td>0.327</td>\n",
              "      <td></td>\n",
              "    </tr>\n",
              "    <tr>\n",
              "      <th>Paciente</th>\n",
              "      <td>32</td>\n",
              "      <td>5.350960e+16</td>\n",
              "      <td>3.942803e+17</td>\n",
              "      <td>-3.407707e+17</td>\n",
              "      <td>0.248</td>\n",
              "      <td></td>\n",
              "    </tr>\n",
              "    <tr>\n",
              "      <th>Impaciente</th>\n",
              "      <td>101</td>\n",
              "      <td>2.929477e+15</td>\n",
              "      <td>1.977075e+16</td>\n",
              "      <td>-1.684127e+16</td>\n",
              "      <td>0.084</td>\n",
              "      <td></td>\n",
              "    </tr>\n",
              "    <tr>\n",
              "      <th rowspan=\"3\" valign=\"top\">Moderado</th>\n",
              "      <th>Loco</th>\n",
              "      <td>12</td>\n",
              "      <td>1.487592e+21</td>\n",
              "      <td>1.338377e+21</td>\n",
              "      <td>1.492145e+20</td>\n",
              "      <td>0.337</td>\n",
              "      <td></td>\n",
              "    </tr>\n",
              "    <tr>\n",
              "      <th>Paciente</th>\n",
              "      <td>119</td>\n",
              "      <td>3.763644e+04</td>\n",
              "      <td>3.739503e+04</td>\n",
              "      <td>2.414019e+02</td>\n",
              "      <td>0.009</td>\n",
              "      <td>**</td>\n",
              "    </tr>\n",
              "    <tr>\n",
              "      <th>Impaciente</th>\n",
              "      <td>327</td>\n",
              "      <td>1.075933e+04</td>\n",
              "      <td>1.065960e+04</td>\n",
              "      <td>9.973214e+01</td>\n",
              "      <td>0.000</td>\n",
              "      <td>***</td>\n",
              "    </tr>\n",
              "    <tr>\n",
              "      <th rowspan=\"3\" valign=\"top\">MuyAverso</th>\n",
              "      <th>Loco</th>\n",
              "      <td>20</td>\n",
              "      <td>1.589081e+26</td>\n",
              "      <td>1.586556e+26</td>\n",
              "      <td>2.525910e+23</td>\n",
              "      <td>0.330</td>\n",
              "      <td></td>\n",
              "    </tr>\n",
              "    <tr>\n",
              "      <th>Paciente</th>\n",
              "      <td>102</td>\n",
              "      <td>4.653362e+02</td>\n",
              "      <td>4.644252e+02</td>\n",
              "      <td>9.109720e-01</td>\n",
              "      <td>0.003</td>\n",
              "      <td>**</td>\n",
              "    </tr>\n",
              "    <tr>\n",
              "      <th>Impaciente</th>\n",
              "      <td>568</td>\n",
              "      <td>2.307997e+02</td>\n",
              "      <td>2.308041e+02</td>\n",
              "      <td>-4.429292e-03</td>\n",
              "      <td>0.972</td>\n",
              "      <td></td>\n",
              "    </tr>\n",
              "  </tbody>\n",
              "</table>\n",
              "</div>"
            ],
            "text/plain": [
              "                           N            SD  ...  t-test p-val     \n",
              "riesgo       tiempo                         ...                   \n",
              "AmanteRiesgo Loco         17  6.167902e+37  ...         0.327     \n",
              "             Paciente     32  5.350960e+16  ...         0.248     \n",
              "             Impaciente  101  2.929477e+15  ...         0.084     \n",
              "Moderado     Loco         12  1.487592e+21  ...         0.337     \n",
              "             Paciente    119  3.763644e+04  ...         0.009   **\n",
              "             Impaciente  327  1.075933e+04  ...         0.000  ***\n",
              "MuyAverso    Loco         20  1.589081e+26  ...         0.330     \n",
              "             Paciente    102  4.653362e+02  ...         0.003   **\n",
              "             Impaciente  568  2.307997e+02  ...         0.972     \n",
              "\n",
              "[9 rows x 6 columns]"
            ]
          },
          "metadata": {},
          "execution_count": 7
        }
      ]
    },
    {
      "cell_type": "markdown",
      "metadata": {
        "id": "2Sj3e84UCbQU"
      },
      "source": [
        "Si tasa_descuento < 0 (Loco) o r < 0 (amante al riesgo) la utilidad explota"
      ]
    },
    {
      "cell_type": "markdown",
      "metadata": {
        "id": "vH9R16FUaRuP"
      },
      "source": [
        "## Otros tests: Wilcoxon y sign"
      ]
    },
    {
      "cell_type": "markdown",
      "metadata": {
        "id": "FWSFqKXCesVX"
      },
      "source": [
        "En general, los tests no parámetricos encuentran diferencias muy significativas en casi todas las agrupaciones. Sin embargo, algunas son en la dirección opuesta al ttest.\n",
        "\n",
        "* Es notable que ambos test concuerdan que los grupos de _amantes al riesgo pacientes_ y _amantes al riesgo impacientes_ fueron favorecidos por el CTS sobre el SD.\n",
        "\n",
        "* También encontramos una diferencia significativa, pero en la dirección contraria que el ttestm en el grupo _muy averso al riesgo y paciente_"
      ]
    },
    {
      "cell_type": "code",
      "metadata": {
        "colab": {
          "base_uri": "https://localhost:8080/",
          "height": 359
        },
        "id": "JY0Sos9oZB9_",
        "outputId": "c8d0869a-b69d-4713-ee4a-07b47072e147"
      },
      "source": [
        "a = m[['dif', 'riesgo', 'tiempo' ]].groupby(by=['riesgo', 'tiempo']).median()\n",
        "\n",
        "sw = [stars(pval) for pval in pwvals]\n",
        "sg = [stars(pval) for pval in svals]\n",
        "pw = [round(pw, 3) for pw in pwvals]\n",
        "g = [round(g, 3) for g in svals]\n",
        "\n",
        "sw = pd.Series(sw, index=index, name=\"\")\n",
        "sg = pd.Series(sg, index=index, name=\"\")\n",
        "pw = pd.Series(pw, index=index, name='wilcoxon p-val')\n",
        "g = pd.Series(g, index=index, name='sign-test p-val')\n",
        "\n",
        "r = pd.concat([c, a, pw, sw, g,sg], axis = 1)\n",
        "r.rename(columns={0: \"N\", 'dif': 'dif. mediana'}, inplace = True)\n",
        "r"
      ],
      "execution_count": 8,
      "outputs": [
        {
          "output_type": "execute_result",
          "data": {
            "text/html": [
              "<div>\n",
              "<style scoped>\n",
              "    .dataframe tbody tr th:only-of-type {\n",
              "        vertical-align: middle;\n",
              "    }\n",
              "\n",
              "    .dataframe tbody tr th {\n",
              "        vertical-align: top;\n",
              "    }\n",
              "\n",
              "    .dataframe thead th {\n",
              "        text-align: right;\n",
              "    }\n",
              "</style>\n",
              "<table border=\"1\" class=\"dataframe\">\n",
              "  <thead>\n",
              "    <tr style=\"text-align: right;\">\n",
              "      <th></th>\n",
              "      <th></th>\n",
              "      <th>N</th>\n",
              "      <th>dif. mediana</th>\n",
              "      <th>wilcoxon p-val</th>\n",
              "      <th></th>\n",
              "      <th>sign-test p-val</th>\n",
              "      <th></th>\n",
              "    </tr>\n",
              "    <tr>\n",
              "      <th>riesgo</th>\n",
              "      <th>tiempo</th>\n",
              "      <th></th>\n",
              "      <th></th>\n",
              "      <th></th>\n",
              "      <th></th>\n",
              "      <th></th>\n",
              "      <th></th>\n",
              "    </tr>\n",
              "  </thead>\n",
              "  <tbody>\n",
              "    <tr>\n",
              "      <th rowspan=\"3\" valign=\"top\">AmanteRiesgo</th>\n",
              "      <th>Loco</th>\n",
              "      <td>17</td>\n",
              "      <td>3.172467e+20</td>\n",
              "      <td>0.049</td>\n",
              "      <td>*</td>\n",
              "      <td>0.629</td>\n",
              "      <td></td>\n",
              "    </tr>\n",
              "    <tr>\n",
              "      <th>Paciente</th>\n",
              "      <td>32</td>\n",
              "      <td>-9.464518e+09</td>\n",
              "      <td>0.000</td>\n",
              "      <td>***</td>\n",
              "      <td>0.000</td>\n",
              "      <td>***</td>\n",
              "    </tr>\n",
              "    <tr>\n",
              "      <th>Impaciente</th>\n",
              "      <td>101</td>\n",
              "      <td>-4.517862e+12</td>\n",
              "      <td>0.000</td>\n",
              "      <td>***</td>\n",
              "      <td>0.000</td>\n",
              "      <td>***</td>\n",
              "    </tr>\n",
              "    <tr>\n",
              "      <th rowspan=\"3\" valign=\"top\">Moderado</th>\n",
              "      <th>Loco</th>\n",
              "      <td>12</td>\n",
              "      <td>2.688243e+11</td>\n",
              "      <td>0.010</td>\n",
              "      <td>**</td>\n",
              "      <td>0.006</td>\n",
              "      <td>**</td>\n",
              "    </tr>\n",
              "    <tr>\n",
              "      <th>Paciente</th>\n",
              "      <td>119</td>\n",
              "      <td>8.181641e+01</td>\n",
              "      <td>0.000</td>\n",
              "      <td>***</td>\n",
              "      <td>0.000</td>\n",
              "      <td>***</td>\n",
              "    </tr>\n",
              "    <tr>\n",
              "      <th>Impaciente</th>\n",
              "      <td>327</td>\n",
              "      <td>3.556098e+01</td>\n",
              "      <td>0.000</td>\n",
              "      <td>***</td>\n",
              "      <td>0.000</td>\n",
              "      <td>***</td>\n",
              "    </tr>\n",
              "    <tr>\n",
              "      <th rowspan=\"3\" valign=\"top\">MuyAverso</th>\n",
              "      <th>Loco</th>\n",
              "      <td>20</td>\n",
              "      <td>9.182582e+00</td>\n",
              "      <td>0.004</td>\n",
              "      <td>**</td>\n",
              "      <td>0.263</td>\n",
              "      <td></td>\n",
              "    </tr>\n",
              "    <tr>\n",
              "      <th>Paciente</th>\n",
              "      <td>102</td>\n",
              "      <td>-3.608370e-02</td>\n",
              "      <td>0.985</td>\n",
              "      <td></td>\n",
              "      <td>0.004</td>\n",
              "      <td>**</td>\n",
              "    </tr>\n",
              "    <tr>\n",
              "      <th>Impaciente</th>\n",
              "      <td>568</td>\n",
              "      <td>-2.953456e-02</td>\n",
              "      <td>0.773</td>\n",
              "      <td></td>\n",
              "      <td>0.000</td>\n",
              "      <td>***</td>\n",
              "    </tr>\n",
              "  </tbody>\n",
              "</table>\n",
              "</div>"
            ],
            "text/plain": [
              "                           N  dif. mediana  ...  sign-test p-val     \n",
              "riesgo       tiempo                         ...                      \n",
              "AmanteRiesgo Loco         17  3.172467e+20  ...            0.629     \n",
              "             Paciente     32 -9.464518e+09  ...            0.000  ***\n",
              "             Impaciente  101 -4.517862e+12  ...            0.000  ***\n",
              "Moderado     Loco         12  2.688243e+11  ...            0.006   **\n",
              "             Paciente    119  8.181641e+01  ...            0.000  ***\n",
              "             Impaciente  327  3.556098e+01  ...            0.000  ***\n",
              "MuyAverso    Loco         20  9.182582e+00  ...            0.263     \n",
              "             Paciente    102 -3.608370e-02  ...            0.004   **\n",
              "             Impaciente  568 -2.953456e-02  ...            0.000  ***\n",
              "\n",
              "[9 rows x 6 columns]"
            ]
          },
          "metadata": {},
          "execution_count": 8
        }
      ]
    },
    {
      "cell_type": "code",
      "metadata": {
        "colab": {
          "base_uri": "https://localhost:8080/",
          "height": 111
        },
        "id": "GViO8U50Hj8D",
        "outputId": "0dfea729-4077-4658-bcdd-45d2097fc425"
      },
      "source": [
        "m[['rhat', 'dhat' ]].corr(method='pearson')"
      ],
      "execution_count": 9,
      "outputs": [
        {
          "output_type": "execute_result",
          "data": {
            "text/html": [
              "<div>\n",
              "<style scoped>\n",
              "    .dataframe tbody tr th:only-of-type {\n",
              "        vertical-align: middle;\n",
              "    }\n",
              "\n",
              "    .dataframe tbody tr th {\n",
              "        vertical-align: top;\n",
              "    }\n",
              "\n",
              "    .dataframe thead th {\n",
              "        text-align: right;\n",
              "    }\n",
              "</style>\n",
              "<table border=\"1\" class=\"dataframe\">\n",
              "  <thead>\n",
              "    <tr style=\"text-align: right;\">\n",
              "      <th></th>\n",
              "      <th>rhat</th>\n",
              "      <th>dhat</th>\n",
              "    </tr>\n",
              "  </thead>\n",
              "  <tbody>\n",
              "    <tr>\n",
              "      <th>rhat</th>\n",
              "      <td>1.000000</td>\n",
              "      <td>0.043541</td>\n",
              "    </tr>\n",
              "    <tr>\n",
              "      <th>dhat</th>\n",
              "      <td>0.043541</td>\n",
              "      <td>1.000000</td>\n",
              "    </tr>\n",
              "  </tbody>\n",
              "</table>\n",
              "</div>"
            ],
            "text/plain": [
              "          rhat      dhat\n",
              "rhat  1.000000  0.043541\n",
              "dhat  0.043541  1.000000"
            ]
          },
          "metadata": {},
          "execution_count": 9
        }
      ]
    },
    {
      "cell_type": "markdown",
      "metadata": {
        "id": "XO425FiNiPB6"
      },
      "source": [
        "## Regresión"
      ]
    },
    {
      "cell_type": "markdown",
      "metadata": {
        "id": "2e9qAj1viVYK"
      },
      "source": [
        "$U_{SD} - U_{CTS} = riesgo + tiempo + probDespido + ingreso + error$ \n",
        "\n",
        "\n",
        "dónde, \n",
        "\n",
        "\n",
        "\\begin{equation}\n",
        "  U_{SD} - U_{CTS} = \\left \\{\n",
        "  \\begin{aligned}\n",
        "    &1, && \\text{si}\\ U_{SD} > U_{CTS} \\\\\n",
        "    &0, && \\text{de lo contrario}\n",
        "  \\end{aligned} \\right.\n",
        "\\end{equation} "
      ]
    },
    {
      "cell_type": "code",
      "metadata": {
        "colab": {
          "base_uri": "https://localhost:8080/"
        },
        "id": "HWEDPG7nsJAa",
        "outputId": "a96068b3-3758-4042-e5e4-dc041ba004dd"
      },
      "source": [
        "import statsmodels.api as sm\n",
        "from patsy import dmatrices\n",
        "\n",
        "exp = pd.get_dummies(m, columns=['riesgo', 'tiempo'])\n",
        "\n",
        "exp['o'] = np.where(d > 0, 1, 0)\n",
        "\n",
        "print(exp['o'].sum())\n",
        "\n",
        "reg  = \"o ~ rhat + dhat + prd + w\"\n",
        "reg1  = \"o ~ rhat + dhat + I(rhat**2) + I(dhat**2) + pdesp + w\" \n",
        "reg2 = \"o ~ riesgo_AmanteRiesgo + riesgo_Moderado + tiempo_Loco + tiempo_Paciente + pdesp + w\"\n",
        "reg3 = \"o ~ riesgo_AmanteRiesgo:tiempo_Loco + riesgo_AmanteRiesgo + tiempo_Loco + pdesp + w\"\n",
        "\n",
        "regresiones = [reg, reg1, reg2, reg3]\n",
        "\n",
        "for i, r in enumerate(regresiones):\n",
        "  outcome, predictors = dmatrices(r, exp)  \n",
        "  mod = sm.Probit(outcome, predictors)\n",
        "  res = mod.fit(cov_type='hc0')\n",
        "  print(f'regresión {i}')\n",
        "  print('\\n')\n",
        "  print(r)\n",
        "  print('\\n')\n",
        "  print(res.summary())\n",
        "  print('\\n\\n\\n\\n')"
      ],
      "execution_count": 13,
      "outputs": [
        {
          "output_type": "stream",
          "name": "stdout",
          "text": [
            "739\n",
            "Optimization terminated successfully.\n",
            "         Current function value: 0.645307\n",
            "         Iterations 5\n",
            "regresión 0\n",
            "\n",
            "\n",
            "o ~ rhat + dhat + prd + w\n",
            "\n",
            "\n",
            "                          Probit Regression Results                           \n",
            "==============================================================================\n",
            "Dep. Variable:                      o   No. Observations:                 1298\n",
            "Model:                         Probit   Df Residuals:                     1293\n",
            "Method:                           MLE   Df Model:                            4\n",
            "Date:                Fri, 03 Dec 2021   Pseudo R-squ.:                 0.05588\n",
            "Time:                        13:59:36   Log-Likelihood:                -837.61\n",
            "converged:                       True   LL-Null:                       -887.18\n",
            "Covariance Type:                  hc0   LLR p-value:                 1.492e-20\n",
            "==============================================================================\n",
            "                 coef    std err          z      P>|z|      [0.025      0.975]\n",
            "------------------------------------------------------------------------------\n",
            "Intercept      0.8214      0.121      6.767      0.000       0.584       1.059\n",
            "rhat          -0.0705      0.030     -2.386      0.017      -0.128      -0.013\n",
            "dhat          -0.1352      0.065     -2.091      0.037      -0.262      -0.008\n",
            "prd          -12.0749      1.487     -8.120      0.000     -14.989      -9.160\n",
            "w          -1.358e-05   3.32e-05     -0.409      0.683   -7.87e-05    5.16e-05\n",
            "==============================================================================\n",
            "\n",
            "\n",
            "\n",
            "\n",
            "\n",
            "Optimization terminated successfully.\n",
            "         Current function value: 0.379969\n",
            "         Iterations 8\n",
            "regresión 1\n",
            "\n",
            "\n",
            "o ~ rhat + dhat + I(rhat**2) + I(dhat**2) + pdesp + w\n",
            "\n",
            "\n",
            "                          Probit Regression Results                           \n",
            "==============================================================================\n",
            "Dep. Variable:                      o   No. Observations:                 1298\n",
            "Model:                         Probit   Df Residuals:                     1291\n",
            "Method:                           MLE   Df Model:                            6\n",
            "Date:                Fri, 03 Dec 2021   Pseudo R-squ.:                  0.4441\n",
            "Time:                        13:59:36   Log-Likelihood:                -493.20\n",
            "converged:                       True   LL-Null:                       -887.18\n",
            "Covariance Type:                  hc0   LLR p-value:                6.122e-167\n",
            "================================================================================\n",
            "                   coef    std err          z      P>|z|      [0.025      0.975]\n",
            "--------------------------------------------------------------------------------\n",
            "Intercept        3.3570      0.497      6.753      0.000       2.383       4.331\n",
            "rhat             0.1489      0.085      1.760      0.078      -0.017       0.315\n",
            "dhat            -3.0338      0.737     -4.116      0.000      -4.478      -1.589\n",
            "I(rhat ** 2)    -0.6851      0.126     -5.430      0.000      -0.932      -0.438\n",
            "I(dhat ** 2)     1.3632      0.366      3.728      0.000       0.647       2.080\n",
            "pdesp           -0.2655      0.036     -7.321      0.000      -0.337      -0.194\n",
            "w            -9.086e-05   3.87e-05     -2.349      0.019      -0.000   -1.51e-05\n",
            "================================================================================\n",
            "\n",
            "\n",
            "\n",
            "\n",
            "\n",
            "Optimization terminated successfully.\n",
            "         Current function value: 0.383973\n",
            "         Iterations 7\n",
            "regresión 2\n",
            "\n",
            "\n",
            "o ~ riesgo_AmanteRiesgo + riesgo_Moderado + tiempo_Loco + tiempo_Paciente + pdesp + w\n",
            "\n",
            "\n",
            "                          Probit Regression Results                           \n",
            "==============================================================================\n",
            "Dep. Variable:                      o   No. Observations:                 1298\n",
            "Model:                         Probit   Df Residuals:                     1291\n",
            "Method:                           MLE   Df Model:                            6\n",
            "Date:                Fri, 03 Dec 2021   Pseudo R-squ.:                  0.4382\n",
            "Time:                        13:59:36   Log-Likelihood:                -498.40\n",
            "converged:                       True   LL-Null:                       -887.18\n",
            "Covariance Type:                  hc0   LLR p-value:                1.077e-164\n",
            "=======================================================================================\n",
            "                          coef    std err          z      P>|z|      [0.025      0.975]\n",
            "---------------------------------------------------------------------------------------\n",
            "Intercept               0.4140      0.116      3.575      0.000       0.187       0.641\n",
            "riesgo_AmanteRiesgo    -1.4621      0.213     -6.863      0.000      -1.880      -1.045\n",
            "riesgo_Moderado         2.4270      0.175     13.837      0.000       2.083       2.771\n",
            "tiempo_Loco             1.4992      0.307      4.891      0.000       0.898       2.100\n",
            "tiempo_Paciente        -0.1322      0.130     -1.013      0.311      -0.388       0.124\n",
            "pdesp                  -0.2899      0.044     -6.614      0.000      -0.376      -0.204\n",
            "w                   -9.362e-05   4.48e-05     -2.089      0.037      -0.000   -5.77e-06\n",
            "=======================================================================================\n",
            "\n",
            "\n",
            "\n",
            "\n",
            "\n",
            "Optimization terminated successfully.\n",
            "         Current function value: 0.564046\n",
            "         Iterations 7\n",
            "regresión 3\n",
            "\n",
            "\n",
            "o ~ riesgo_AmanteRiesgo:tiempo_Loco + riesgo_AmanteRiesgo + tiempo_Loco + pdesp + w\n",
            "\n",
            "\n",
            "                          Probit Regression Results                           \n",
            "==============================================================================\n",
            "Dep. Variable:                      o   No. Observations:                 1298\n",
            "Model:                         Probit   Df Residuals:                     1292\n",
            "Method:                           MLE   Df Model:                            5\n",
            "Date:                Fri, 03 Dec 2021   Pseudo R-squ.:                  0.1748\n",
            "Time:                        13:59:36   Log-Likelihood:                -732.13\n",
            "converged:                       True   LL-Null:                       -887.18\n",
            "Covariance Type:                  hc0   LLR p-value:                 6.727e-65\n",
            "===================================================================================================\n",
            "                                      coef    std err          z      P>|z|      [0.025      0.975]\n",
            "---------------------------------------------------------------------------------------------------\n",
            "Intercept                           0.7155      0.086      8.327      0.000       0.547       0.884\n",
            "riesgo_AmanteRiesgo:tiempo_Loco     1.8179      0.498      3.653      0.000       0.842       2.793\n",
            "riesgo_AmanteRiesgo                -2.4123      0.314     -7.687      0.000      -3.027      -1.797\n",
            "tiempo_Loco                         0.5990      0.252      2.373      0.018       0.104       1.094\n",
            "pdesp                              -0.2058      0.029     -7.067      0.000      -0.263      -0.149\n",
            "w                                 7.57e-06    3.4e-05      0.223      0.824    -5.9e-05    7.41e-05\n",
            "===================================================================================================\n",
            "\n",
            "\n",
            "\n",
            "\n",
            "\n"
          ]
        }
      ]
    }
  ]
}